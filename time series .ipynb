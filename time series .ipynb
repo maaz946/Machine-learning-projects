{
 "cells": [
  {
   "cell_type": "code",
   "execution_count": 1,
   "id": "c9c1ca2b",
   "metadata": {},
   "outputs": [],
   "source": [
    "import pandas as pd"
   ]
  },
  {
   "cell_type": "code",
   "execution_count": 2,
   "id": "79cb1c5d",
   "metadata": {},
   "outputs": [],
   "source": [
    "train=pd.read_csv(r'E:\\kiet files\\4 semister\\csv files\\store-sales-time-series-forecasting\\train.csv')\n",
    "test=pd.read_csv(r'E:\\kiet files\\4 semister\\csv files\\store-sales-time-series-forecasting\\test.csv')\n",
    "oil=pd.read_csv(r'E:\\kiet files\\4 semister\\csv files\\store-sales-time-series-forecasting\\oil.csv')\n",
    "holidays_events=pd.read_csv(r'E:\\kiet files\\4 semister\\csv files\\store-sales-time-series-forecasting\\holidays_events.csv')\n",
    "transactions=pd.read_csv(r'E:\\kiet files\\4 semister\\csv files\\store-sales-time-series-forecasting\\transactions.csv')"
   ]
  },
  {
   "cell_type": "code",
   "execution_count": 2,
   "id": "b93fb9bf",
   "metadata": {},
   "outputs": [],
   "source": [
    "asc=pd.read_csv(r'C:\\Users\\Maazullah Khan Warsi\\Downloads\\projects_translated.csv')"
   ]
  },
  {
   "cell_type": "code",
   "execution_count": 4,
   "id": "8f93fe17",
   "metadata": {
    "scrolled": true
   },
   "outputs": [
    {
     "data": {
      "text/html": [
       "<div>\n",
       "<style scoped>\n",
       "    .dataframe tbody tr th:only-of-type {\n",
       "        vertical-align: middle;\n",
       "    }\n",
       "\n",
       "    .dataframe tbody tr th {\n",
       "        vertical-align: top;\n",
       "    }\n",
       "\n",
       "    .dataframe thead th {\n",
       "        text-align: right;\n",
       "    }\n",
       "</style>\n",
       "<table border=\"1\" class=\"dataframe\">\n",
       "  <thead>\n",
       "    <tr style=\"text-align: right;\">\n",
       "      <th></th>\n",
       "      <th>id</th>\n",
       "      <th>name</th>\n",
       "      <th>description</th>\n",
       "      <th>categories</th>\n",
       "      <th>project_budget</th>\n",
       "      <th>is_hourly</th>\n",
       "      <th>url</th>\n",
       "      <th>channel</th>\n",
       "      <th>language</th>\n",
       "      <th>automated</th>\n",
       "      <th>...</th>\n",
       "      <th>deleted_at</th>\n",
       "      <th>created_at</th>\n",
       "      <th>updated_at</th>\n",
       "      <th>project_attention</th>\n",
       "      <th>affiliate</th>\n",
       "      <th>partner_id</th>\n",
       "      <th>currency</th>\n",
       "      <th>experience</th>\n",
       "      <th>source</th>\n",
       "      <th>follow_up_date</th>\n",
       "    </tr>\n",
       "  </thead>\n",
       "  <tbody>\n",
       "    <tr>\n",
       "      <th>0</th>\n",
       "      <td>126</td>\n",
       "      <td>Freelancers are needed to handle and maintain ...</td>\n",
       "      <td>An expert in maintaining, maintaining and impr...</td>\n",
       "      <td>WordPress</td>\n",
       "      <td>30</td>\n",
       "      <td>1</td>\n",
       "      <td>https://www.xplace.com/job/158130</td>\n",
       "      <td>xplace</td>\n",
       "      <td>he</td>\n",
       "      <td>1</td>\n",
       "      <td>...</td>\n",
       "      <td>NaN</td>\n",
       "      <td>2020-09-10 12:31:46</td>\n",
       "      <td>2020-09-10 18:26:02</td>\n",
       "      <td>0</td>\n",
       "      <td>0</td>\n",
       "      <td>0</td>\n",
       "      <td>NaN</td>\n",
       "      <td>0.0</td>\n",
       "      <td>1</td>\n",
       "      <td>NaN</td>\n",
       "    </tr>\n",
       "    <tr>\n",
       "      <th>1</th>\n",
       "      <td>127</td>\n",
       "      <td>Freelancers are needed to build a number of sm...</td>\n",
       "      <td>Looking for support in adding some small featu...</td>\n",
       "      <td>WordPress</td>\n",
       "      <td>30</td>\n",
       "      <td>1</td>\n",
       "      <td>https://www.xplace.com/job/158135</td>\n",
       "      <td>xplace</td>\n",
       "      <td>he</td>\n",
       "      <td>1</td>\n",
       "      <td>...</td>\n",
       "      <td>NaN</td>\n",
       "      <td>2020-09-10 14:59:34</td>\n",
       "      <td>2020-09-10 18:24:48</td>\n",
       "      <td>0</td>\n",
       "      <td>0</td>\n",
       "      <td>0</td>\n",
       "      <td>NaN</td>\n",
       "      <td>0.0</td>\n",
       "      <td>1</td>\n",
       "      <td>NaN</td>\n",
       "    </tr>\n",
       "    <tr>\n",
       "      <th>2</th>\n",
       "      <td>128</td>\n",
       "      <td>* A WordPress developer is required to complet...</td>\n",
       "      <td>The system: 1 is already in the network. 2. Ba...</td>\n",
       "      <td>Dynamic website building</td>\n",
       "      <td>50</td>\n",
       "      <td>1</td>\n",
       "      <td>https://www.xplace.com/job/158140</td>\n",
       "      <td>xplace</td>\n",
       "      <td>he</td>\n",
       "      <td>1</td>\n",
       "      <td>...</td>\n",
       "      <td>NaN</td>\n",
       "      <td>2020-09-10 19:09:11</td>\n",
       "      <td>2020-09-10 19:09:26</td>\n",
       "      <td>0</td>\n",
       "      <td>0</td>\n",
       "      <td>0</td>\n",
       "      <td>NaN</td>\n",
       "      <td>0.0</td>\n",
       "      <td>1</td>\n",
       "      <td>NaN</td>\n",
       "    </tr>\n",
       "    <tr>\n",
       "      <th>3</th>\n",
       "      <td>129</td>\n",
       "      <td>Freelance CSS freelancers needed</td>\n",
       "      <td>Our company has an active website and we want ...</td>\n",
       "      <td>Dynamic WebsitesPSD Design to HTML + CSS</td>\n",
       "      <td>30</td>\n",
       "      <td>1</td>\n",
       "      <td>https://www.xplace.com/job/158141</td>\n",
       "      <td>xplace</td>\n",
       "      <td>he</td>\n",
       "      <td>1</td>\n",
       "      <td>...</td>\n",
       "      <td>NaN</td>\n",
       "      <td>2020-09-10 19:09:57</td>\n",
       "      <td>2020-09-10 19:10:14</td>\n",
       "      <td>0</td>\n",
       "      <td>0</td>\n",
       "      <td>0</td>\n",
       "      <td>NaN</td>\n",
       "      <td>0.0</td>\n",
       "      <td>1</td>\n",
       "      <td>NaN</td>\n",
       "    </tr>\n",
       "    <tr>\n",
       "      <th>4</th>\n",
       "      <td>131</td>\n",
       "      <td>Freelancers needed for a media company - campa...</td>\n",
       "      <td>We need marketers who know how to manage socia...</td>\n",
       "      <td>Simple Websites, Landing PagesWebsite DesignIn...</td>\n",
       "      <td>30</td>\n",
       "      <td>1</td>\n",
       "      <td>https://www.xplace.com/job/158145</td>\n",
       "      <td>xplace</td>\n",
       "      <td>he</td>\n",
       "      <td>1</td>\n",
       "      <td>...</td>\n",
       "      <td>NaN</td>\n",
       "      <td>2020-09-10 19:13:40</td>\n",
       "      <td>2020-09-10 19:13:53</td>\n",
       "      <td>0</td>\n",
       "      <td>0</td>\n",
       "      <td>0</td>\n",
       "      <td>NaN</td>\n",
       "      <td>0.0</td>\n",
       "      <td>1</td>\n",
       "      <td>NaN</td>\n",
       "    </tr>\n",
       "  </tbody>\n",
       "</table>\n",
       "<p>5 rows × 22 columns</p>\n",
       "</div>"
      ],
      "text/plain": [
       "    id                                               name  \\\n",
       "0  126  Freelancers are needed to handle and maintain ...   \n",
       "1  127  Freelancers are needed to build a number of sm...   \n",
       "2  128  * A WordPress developer is required to complet...   \n",
       "3  129                   Freelance CSS freelancers needed   \n",
       "4  131  Freelancers needed for a media company - campa...   \n",
       "\n",
       "                                         description  \\\n",
       "0  An expert in maintaining, maintaining and impr...   \n",
       "1  Looking for support in adding some small featu...   \n",
       "2  The system: 1 is already in the network. 2. Ba...   \n",
       "3  Our company has an active website and we want ...   \n",
       "4  We need marketers who know how to manage socia...   \n",
       "\n",
       "                                          categories project_budget  \\\n",
       "0                                          WordPress             30   \n",
       "1                                          WordPress             30   \n",
       "2                           Dynamic website building             50   \n",
       "3           Dynamic WebsitesPSD Design to HTML + CSS             30   \n",
       "4  Simple Websites, Landing PagesWebsite DesignIn...             30   \n",
       "\n",
       "   is_hourly                                url channel language  automated  \\\n",
       "0          1  https://www.xplace.com/job/158130  xplace       he          1   \n",
       "1          1  https://www.xplace.com/job/158135  xplace       he          1   \n",
       "2          1  https://www.xplace.com/job/158140  xplace       he          1   \n",
       "3          1  https://www.xplace.com/job/158141  xplace       he          1   \n",
       "4          1  https://www.xplace.com/job/158145  xplace       he          1   \n",
       "\n",
       "   ... deleted_at           created_at           updated_at project_attention  \\\n",
       "0  ...        NaN  2020-09-10 12:31:46  2020-09-10 18:26:02                 0   \n",
       "1  ...        NaN  2020-09-10 14:59:34  2020-09-10 18:24:48                 0   \n",
       "2  ...        NaN  2020-09-10 19:09:11  2020-09-10 19:09:26                 0   \n",
       "3  ...        NaN  2020-09-10 19:09:57  2020-09-10 19:10:14                 0   \n",
       "4  ...        NaN  2020-09-10 19:13:40  2020-09-10 19:13:53                 0   \n",
       "\n",
       "  affiliate  partner_id  currency  experience source  follow_up_date  \n",
       "0         0           0       NaN         0.0      1             NaN  \n",
       "1         0           0       NaN         0.0      1             NaN  \n",
       "2         0           0       NaN         0.0      1             NaN  \n",
       "3         0           0       NaN         0.0      1             NaN  \n",
       "4         0           0       NaN         0.0      1             NaN  \n",
       "\n",
       "[5 rows x 22 columns]"
      ]
     },
     "execution_count": 4,
     "metadata": {},
     "output_type": "execute_result"
    }
   ],
   "source": [
    "asc.head(5)"
   ]
  },
  {
   "cell_type": "code",
   "execution_count": 5,
   "id": "670a4048",
   "metadata": {
    "scrolled": false
   },
   "outputs": [
    {
     "data": {
      "text/html": [
       "<div>\n",
       "<style scoped>\n",
       "    .dataframe tbody tr th:only-of-type {\n",
       "        vertical-align: middle;\n",
       "    }\n",
       "\n",
       "    .dataframe tbody tr th {\n",
       "        vertical-align: top;\n",
       "    }\n",
       "\n",
       "    .dataframe thead th {\n",
       "        text-align: right;\n",
       "    }\n",
       "</style>\n",
       "<table border=\"1\" class=\"dataframe\">\n",
       "  <thead>\n",
       "    <tr style=\"text-align: right;\">\n",
       "      <th></th>\n",
       "      <th>id</th>\n",
       "      <th>is_hourly</th>\n",
       "      <th>automated</th>\n",
       "      <th>status</th>\n",
       "      <th>deleted_at</th>\n",
       "      <th>project_attention</th>\n",
       "      <th>affiliate</th>\n",
       "      <th>partner_id</th>\n",
       "      <th>experience</th>\n",
       "      <th>source</th>\n",
       "    </tr>\n",
       "  </thead>\n",
       "  <tbody>\n",
       "    <tr>\n",
       "      <th>count</th>\n",
       "      <td>2419.000000</td>\n",
       "      <td>2419.000000</td>\n",
       "      <td>2419.000000</td>\n",
       "      <td>2419.000000</td>\n",
       "      <td>0.0</td>\n",
       "      <td>2419.000000</td>\n",
       "      <td>2419.000000</td>\n",
       "      <td>2419.000000</td>\n",
       "      <td>2410.000000</td>\n",
       "      <td>2419.000000</td>\n",
       "    </tr>\n",
       "    <tr>\n",
       "      <th>mean</th>\n",
       "      <td>15662.128566</td>\n",
       "      <td>2.875155</td>\n",
       "      <td>0.190161</td>\n",
       "      <td>1.359239</td>\n",
       "      <td>NaN</td>\n",
       "      <td>0.353865</td>\n",
       "      <td>0.000413</td>\n",
       "      <td>0.104175</td>\n",
       "      <td>0.005394</td>\n",
       "      <td>0.208764</td>\n",
       "    </tr>\n",
       "    <tr>\n",
       "      <th>std</th>\n",
       "      <td>5799.416847</td>\n",
       "      <td>6.753129</td>\n",
       "      <td>0.392509</td>\n",
       "      <td>1.259672</td>\n",
       "      <td>NaN</td>\n",
       "      <td>0.478267</td>\n",
       "      <td>0.020332</td>\n",
       "      <td>1.713778</td>\n",
       "      <td>0.116026</td>\n",
       "      <td>0.477610</td>\n",
       "    </tr>\n",
       "    <tr>\n",
       "      <th>min</th>\n",
       "      <td>126.000000</td>\n",
       "      <td>0.000000</td>\n",
       "      <td>0.000000</td>\n",
       "      <td>0.000000</td>\n",
       "      <td>NaN</td>\n",
       "      <td>0.000000</td>\n",
       "      <td>0.000000</td>\n",
       "      <td>0.000000</td>\n",
       "      <td>0.000000</td>\n",
       "      <td>0.000000</td>\n",
       "    </tr>\n",
       "    <tr>\n",
       "      <th>25%</th>\n",
       "      <td>16784.500000</td>\n",
       "      <td>1.000000</td>\n",
       "      <td>0.000000</td>\n",
       "      <td>1.000000</td>\n",
       "      <td>NaN</td>\n",
       "      <td>0.000000</td>\n",
       "      <td>0.000000</td>\n",
       "      <td>0.000000</td>\n",
       "      <td>0.000000</td>\n",
       "      <td>0.000000</td>\n",
       "    </tr>\n",
       "    <tr>\n",
       "      <th>50%</th>\n",
       "      <td>17798.000000</td>\n",
       "      <td>1.000000</td>\n",
       "      <td>0.000000</td>\n",
       "      <td>1.000000</td>\n",
       "      <td>NaN</td>\n",
       "      <td>0.000000</td>\n",
       "      <td>0.000000</td>\n",
       "      <td>0.000000</td>\n",
       "      <td>0.000000</td>\n",
       "      <td>0.000000</td>\n",
       "    </tr>\n",
       "    <tr>\n",
       "      <th>75%</th>\n",
       "      <td>18534.500000</td>\n",
       "      <td>1.000000</td>\n",
       "      <td>0.000000</td>\n",
       "      <td>1.000000</td>\n",
       "      <td>NaN</td>\n",
       "      <td>1.000000</td>\n",
       "      <td>0.000000</td>\n",
       "      <td>0.000000</td>\n",
       "      <td>0.000000</td>\n",
       "      <td>0.000000</td>\n",
       "    </tr>\n",
       "    <tr>\n",
       "      <th>max</th>\n",
       "      <td>19148.000000</td>\n",
       "      <td>25.000000</td>\n",
       "      <td>1.000000</td>\n",
       "      <td>8.000000</td>\n",
       "      <td>NaN</td>\n",
       "      <td>1.000000</td>\n",
       "      <td>1.000000</td>\n",
       "      <td>36.000000</td>\n",
       "      <td>4.000000</td>\n",
       "      <td>8.000000</td>\n",
       "    </tr>\n",
       "  </tbody>\n",
       "</table>\n",
       "</div>"
      ],
      "text/plain": [
       "                 id    is_hourly    automated       status  deleted_at  \\\n",
       "count   2419.000000  2419.000000  2419.000000  2419.000000         0.0   \n",
       "mean   15662.128566     2.875155     0.190161     1.359239         NaN   \n",
       "std     5799.416847     6.753129     0.392509     1.259672         NaN   \n",
       "min      126.000000     0.000000     0.000000     0.000000         NaN   \n",
       "25%    16784.500000     1.000000     0.000000     1.000000         NaN   \n",
       "50%    17798.000000     1.000000     0.000000     1.000000         NaN   \n",
       "75%    18534.500000     1.000000     0.000000     1.000000         NaN   \n",
       "max    19148.000000    25.000000     1.000000     8.000000         NaN   \n",
       "\n",
       "       project_attention    affiliate   partner_id   experience       source  \n",
       "count        2419.000000  2419.000000  2419.000000  2410.000000  2419.000000  \n",
       "mean            0.353865     0.000413     0.104175     0.005394     0.208764  \n",
       "std             0.478267     0.020332     1.713778     0.116026     0.477610  \n",
       "min             0.000000     0.000000     0.000000     0.000000     0.000000  \n",
       "25%             0.000000     0.000000     0.000000     0.000000     0.000000  \n",
       "50%             0.000000     0.000000     0.000000     0.000000     0.000000  \n",
       "75%             1.000000     0.000000     0.000000     0.000000     0.000000  \n",
       "max             1.000000     1.000000    36.000000     4.000000     8.000000  "
      ]
     },
     "execution_count": 5,
     "metadata": {},
     "output_type": "execute_result"
    }
   ],
   "source": [
    "asc.describe()"
   ]
  },
  {
   "cell_type": "code",
   "execution_count": 6,
   "id": "0ddf6d1f",
   "metadata": {},
   "outputs": [
    {
     "data": {
      "text/plain": [
       "1     1803\n",
       "0      409\n",
       "25     201\n",
       "24       3\n",
       "10       1\n",
       "22       1\n",
       "23       1\n",
       "Name: is_hourly, dtype: int64"
      ]
     },
     "execution_count": 6,
     "metadata": {},
     "output_type": "execute_result"
    }
   ],
   "source": [
    "asc['is_hourly'].value_counts()"
   ]
  },
  {
   "cell_type": "code",
   "execution_count": null,
   "id": "b5172845",
   "metadata": {},
   "outputs": [],
   "source": []
  },
  {
   "cell_type": "code",
   "execution_count": 3,
   "id": "215e567d",
   "metadata": {},
   "outputs": [
    {
     "data": {
      "text/html": [
       "<div>\n",
       "<style scoped>\n",
       "    .dataframe tbody tr th:only-of-type {\n",
       "        vertical-align: middle;\n",
       "    }\n",
       "\n",
       "    .dataframe tbody tr th {\n",
       "        vertical-align: top;\n",
       "    }\n",
       "\n",
       "    .dataframe thead th {\n",
       "        text-align: right;\n",
       "    }\n",
       "</style>\n",
       "<table border=\"1\" class=\"dataframe\">\n",
       "  <thead>\n",
       "    <tr style=\"text-align: right;\">\n",
       "      <th></th>\n",
       "      <th>id</th>\n",
       "      <th>date</th>\n",
       "      <th>store_nbr</th>\n",
       "      <th>family</th>\n",
       "      <th>sales</th>\n",
       "      <th>onpromotion</th>\n",
       "    </tr>\n",
       "  </thead>\n",
       "  <tbody>\n",
       "    <tr>\n",
       "      <th>0</th>\n",
       "      <td>0</td>\n",
       "      <td>2013-01-01</td>\n",
       "      <td>1</td>\n",
       "      <td>AUTOMOTIVE</td>\n",
       "      <td>0.0</td>\n",
       "      <td>0</td>\n",
       "    </tr>\n",
       "    <tr>\n",
       "      <th>1</th>\n",
       "      <td>1</td>\n",
       "      <td>2013-01-01</td>\n",
       "      <td>1</td>\n",
       "      <td>BABY CARE</td>\n",
       "      <td>0.0</td>\n",
       "      <td>0</td>\n",
       "    </tr>\n",
       "  </tbody>\n",
       "</table>\n",
       "</div>"
      ],
      "text/plain": [
       "   id        date  store_nbr      family  sales  onpromotion\n",
       "0   0  2013-01-01          1  AUTOMOTIVE    0.0            0\n",
       "1   1  2013-01-01          1   BABY CARE    0.0            0"
      ]
     },
     "execution_count": 3,
     "metadata": {},
     "output_type": "execute_result"
    }
   ],
   "source": [
    "train.head(2)"
   ]
  },
  {
   "cell_type": "code",
   "execution_count": 4,
   "id": "36913622",
   "metadata": {
    "scrolled": true
   },
   "outputs": [
    {
     "data": {
      "text/html": [
       "<div>\n",
       "<style scoped>\n",
       "    .dataframe tbody tr th:only-of-type {\n",
       "        vertical-align: middle;\n",
       "    }\n",
       "\n",
       "    .dataframe tbody tr th {\n",
       "        vertical-align: top;\n",
       "    }\n",
       "\n",
       "    .dataframe thead th {\n",
       "        text-align: right;\n",
       "    }\n",
       "</style>\n",
       "<table border=\"1\" class=\"dataframe\">\n",
       "  <thead>\n",
       "    <tr style=\"text-align: right;\">\n",
       "      <th></th>\n",
       "      <th>id</th>\n",
       "      <th>store_nbr</th>\n",
       "      <th>sales</th>\n",
       "      <th>onpromotion</th>\n",
       "    </tr>\n",
       "  </thead>\n",
       "  <tbody>\n",
       "    <tr>\n",
       "      <th>count</th>\n",
       "      <td>3.000888e+06</td>\n",
       "      <td>3.000888e+06</td>\n",
       "      <td>3.000888e+06</td>\n",
       "      <td>3.000888e+06</td>\n",
       "    </tr>\n",
       "    <tr>\n",
       "      <th>mean</th>\n",
       "      <td>1.500444e+06</td>\n",
       "      <td>2.750000e+01</td>\n",
       "      <td>3.577757e+02</td>\n",
       "      <td>2.602770e+00</td>\n",
       "    </tr>\n",
       "    <tr>\n",
       "      <th>std</th>\n",
       "      <td>8.662819e+05</td>\n",
       "      <td>1.558579e+01</td>\n",
       "      <td>1.101998e+03</td>\n",
       "      <td>1.221888e+01</td>\n",
       "    </tr>\n",
       "    <tr>\n",
       "      <th>min</th>\n",
       "      <td>0.000000e+00</td>\n",
       "      <td>1.000000e+00</td>\n",
       "      <td>0.000000e+00</td>\n",
       "      <td>0.000000e+00</td>\n",
       "    </tr>\n",
       "    <tr>\n",
       "      <th>25%</th>\n",
       "      <td>7.502218e+05</td>\n",
       "      <td>1.400000e+01</td>\n",
       "      <td>0.000000e+00</td>\n",
       "      <td>0.000000e+00</td>\n",
       "    </tr>\n",
       "    <tr>\n",
       "      <th>50%</th>\n",
       "      <td>1.500444e+06</td>\n",
       "      <td>2.750000e+01</td>\n",
       "      <td>1.100000e+01</td>\n",
       "      <td>0.000000e+00</td>\n",
       "    </tr>\n",
       "    <tr>\n",
       "      <th>75%</th>\n",
       "      <td>2.250665e+06</td>\n",
       "      <td>4.100000e+01</td>\n",
       "      <td>1.958473e+02</td>\n",
       "      <td>0.000000e+00</td>\n",
       "    </tr>\n",
       "    <tr>\n",
       "      <th>max</th>\n",
       "      <td>3.000887e+06</td>\n",
       "      <td>5.400000e+01</td>\n",
       "      <td>1.247170e+05</td>\n",
       "      <td>7.410000e+02</td>\n",
       "    </tr>\n",
       "  </tbody>\n",
       "</table>\n",
       "</div>"
      ],
      "text/plain": [
       "                 id     store_nbr         sales   onpromotion\n",
       "count  3.000888e+06  3.000888e+06  3.000888e+06  3.000888e+06\n",
       "mean   1.500444e+06  2.750000e+01  3.577757e+02  2.602770e+00\n",
       "std    8.662819e+05  1.558579e+01  1.101998e+03  1.221888e+01\n",
       "min    0.000000e+00  1.000000e+00  0.000000e+00  0.000000e+00\n",
       "25%    7.502218e+05  1.400000e+01  0.000000e+00  0.000000e+00\n",
       "50%    1.500444e+06  2.750000e+01  1.100000e+01  0.000000e+00\n",
       "75%    2.250665e+06  4.100000e+01  1.958473e+02  0.000000e+00\n",
       "max    3.000887e+06  5.400000e+01  1.247170e+05  7.410000e+02"
      ]
     },
     "execution_count": 4,
     "metadata": {},
     "output_type": "execute_result"
    }
   ],
   "source": [
    "train.describe()"
   ]
  },
  {
   "cell_type": "code",
   "execution_count": 5,
   "id": "6fab7dc7",
   "metadata": {},
   "outputs": [
    {
     "data": {
      "text/plain": [
       "Index(['date', 'type', 'locale', 'locale_name', 'description', 'transferred'], dtype='object')"
      ]
     },
     "execution_count": 5,
     "metadata": {},
     "output_type": "execute_result"
    }
   ],
   "source": [
    "holidays_events.columns"
   ]
  },
  {
   "cell_type": "code",
   "execution_count": 6,
   "id": "7879f868",
   "metadata": {},
   "outputs": [],
   "source": [
    "holidays_events=holidays_events[['date', 'type', 'locale', 'locale_name']]"
   ]
  },
  {
   "cell_type": "code",
   "execution_count": 7,
   "id": "76fa6b34",
   "metadata": {},
   "outputs": [],
   "source": [
    "train=train.merge(holidays_events,on='date')"
   ]
  },
  {
   "cell_type": "code",
   "execution_count": 8,
   "id": "aefcbe2f",
   "metadata": {
    "scrolled": true
   },
   "outputs": [
    {
     "data": {
      "text/plain": [
       "(502524, 9)"
      ]
     },
     "execution_count": 8,
     "metadata": {},
     "output_type": "execute_result"
    }
   ],
   "source": [
    "train.shape"
   ]
  },
  {
   "cell_type": "code",
   "execution_count": 58,
   "id": "b444fd5a",
   "metadata": {
    "scrolled": true
   },
   "outputs": [
    {
     "data": {
      "text/html": [
       "<div>\n",
       "<style scoped>\n",
       "    .dataframe tbody tr th:only-of-type {\n",
       "        vertical-align: middle;\n",
       "    }\n",
       "\n",
       "    .dataframe tbody tr th {\n",
       "        vertical-align: top;\n",
       "    }\n",
       "\n",
       "    .dataframe thead th {\n",
       "        text-align: right;\n",
       "    }\n",
       "</style>\n",
       "<table border=\"1\" class=\"dataframe\">\n",
       "  <thead>\n",
       "    <tr style=\"text-align: right;\">\n",
       "      <th></th>\n",
       "      <th>date</th>\n",
       "      <th>store_nbr</th>\n",
       "      <th>transactions</th>\n",
       "    </tr>\n",
       "  </thead>\n",
       "  <tbody>\n",
       "    <tr>\n",
       "      <th>0</th>\n",
       "      <td>2013-01-01</td>\n",
       "      <td>25</td>\n",
       "      <td>770</td>\n",
       "    </tr>\n",
       "    <tr>\n",
       "      <th>1</th>\n",
       "      <td>2013-01-02</td>\n",
       "      <td>1</td>\n",
       "      <td>2111</td>\n",
       "    </tr>\n",
       "  </tbody>\n",
       "</table>\n",
       "</div>"
      ],
      "text/plain": [
       "         date  store_nbr  transactions\n",
       "0  2013-01-01         25           770\n",
       "1  2013-01-02          1          2111"
      ]
     },
     "execution_count": 58,
     "metadata": {},
     "output_type": "execute_result"
    }
   ],
   "source": [
    "transactions.head(2)"
   ]
  },
  {
   "cell_type": "code",
   "execution_count": 59,
   "id": "fb99fe7b",
   "metadata": {},
   "outputs": [],
   "source": [
    "train=train.merge(transactions,on='date')"
   ]
  },
  {
   "cell_type": "code",
   "execution_count": 60,
   "id": "53673dd7",
   "metadata": {
    "scrolled": true
   },
   "outputs": [
    {
     "data": {
      "text/html": [
       "<div>\n",
       "<style scoped>\n",
       "    .dataframe tbody tr th:only-of-type {\n",
       "        vertical-align: middle;\n",
       "    }\n",
       "\n",
       "    .dataframe tbody tr th {\n",
       "        vertical-align: top;\n",
       "    }\n",
       "\n",
       "    .dataframe thead th {\n",
       "        text-align: right;\n",
       "    }\n",
       "</style>\n",
       "<table border=\"1\" class=\"dataframe\">\n",
       "  <thead>\n",
       "    <tr style=\"text-align: right;\">\n",
       "      <th></th>\n",
       "      <th>id</th>\n",
       "      <th>date</th>\n",
       "      <th>store_nbr_x</th>\n",
       "      <th>family</th>\n",
       "      <th>sales</th>\n",
       "      <th>onpromotion</th>\n",
       "      <th>type</th>\n",
       "      <th>locale</th>\n",
       "      <th>locale_name</th>\n",
       "      <th>dcoilwtico</th>\n",
       "      <th>store_nbr_y</th>\n",
       "      <th>transactions</th>\n",
       "    </tr>\n",
       "  </thead>\n",
       "  <tbody>\n",
       "    <tr>\n",
       "      <th>0</th>\n",
       "      <td>0</td>\n",
       "      <td>2013-01-01</td>\n",
       "      <td>1</td>\n",
       "      <td>AUTOMOTIVE</td>\n",
       "      <td>0.0</td>\n",
       "      <td>0</td>\n",
       "      <td>Holiday</td>\n",
       "      <td>National</td>\n",
       "      <td>Ecuador</td>\n",
       "      <td>67.714366</td>\n",
       "      <td>25</td>\n",
       "      <td>770</td>\n",
       "    </tr>\n",
       "    <tr>\n",
       "      <th>1</th>\n",
       "      <td>1</td>\n",
       "      <td>2013-01-01</td>\n",
       "      <td>1</td>\n",
       "      <td>BABY CARE</td>\n",
       "      <td>0.0</td>\n",
       "      <td>0</td>\n",
       "      <td>Holiday</td>\n",
       "      <td>National</td>\n",
       "      <td>Ecuador</td>\n",
       "      <td>67.714366</td>\n",
       "      <td>25</td>\n",
       "      <td>770</td>\n",
       "    </tr>\n",
       "  </tbody>\n",
       "</table>\n",
       "</div>"
      ],
      "text/plain": [
       "   id        date  store_nbr_x      family  sales  onpromotion     type  \\\n",
       "0   0  2013-01-01            1  AUTOMOTIVE    0.0            0  Holiday   \n",
       "1   1  2013-01-01            1   BABY CARE    0.0            0  Holiday   \n",
       "\n",
       "     locale locale_name  dcoilwtico  store_nbr_y  transactions  \n",
       "0  National     Ecuador   67.714366           25           770  \n",
       "1  National     Ecuador   67.714366           25           770  "
      ]
     },
     "execution_count": 60,
     "metadata": {},
     "output_type": "execute_result"
    }
   ],
   "source": [
    "train.head(2)"
   ]
  },
  {
   "cell_type": "code",
   "execution_count": 10,
   "id": "2f341c03",
   "metadata": {},
   "outputs": [
    {
     "data": {
      "text/plain": [
       "Ecuador                           261954\n",
       "Guayaquil                          19602\n",
       "Riobamba                           17820\n",
       "Guaranda                           16038\n",
       "Latacunga                          16038\n",
       "Quito                              14256\n",
       "Ambato                             14256\n",
       "Cuenca                             10692\n",
       "Cotopaxi                            8910\n",
       "Libertad                            8910\n",
       "Santo Domingo                       8910\n",
       "Puyo                                8910\n",
       "Esmeraldas                          8910\n",
       "Imbabura                            8910\n",
       "Manta                               8910\n",
       "Machala                             8910\n",
       "Cayambe                             8910\n",
       "El Carmen                           8910\n",
       "Ibarra                              7128\n",
       "Loja                                7128\n",
       "Salinas                             7128\n",
       "Santa Elena                         7128\n",
       "Quevedo                             7128\n",
       "Santo Domingo de los Tsachilas      7128\n",
       "Name: locale_name, dtype: int64"
      ]
     },
     "execution_count": 10,
     "metadata": {},
     "output_type": "execute_result"
    }
   ],
   "source": [
    "train['locale_name'].value_counts()"
   ]
  },
  {
   "cell_type": "code",
   "execution_count": 11,
   "id": "fdbcace9",
   "metadata": {},
   "outputs": [
    {
     "data": {
      "text/plain": [
       "id             0\n",
       "date           0\n",
       "store_nbr      0\n",
       "family         0\n",
       "sales          0\n",
       "onpromotion    0\n",
       "type           0\n",
       "locale         0\n",
       "locale_name    0\n",
       "dtype: int64"
      ]
     },
     "execution_count": 11,
     "metadata": {},
     "output_type": "execute_result"
    }
   ],
   "source": [
    "train.isnull().sum()"
   ]
  },
  {
   "cell_type": "code",
   "execution_count": 12,
   "id": "d6c6ad35",
   "metadata": {},
   "outputs": [
    {
     "data": {
      "text/plain": [
       "date           0\n",
       "dcoilwtico    43\n",
       "dtype: int64"
      ]
     },
     "execution_count": 12,
     "metadata": {},
     "output_type": "execute_result"
    }
   ],
   "source": [
    "oil.isnull().sum()"
   ]
  },
  {
   "cell_type": "code",
   "execution_count": 13,
   "id": "9cd4e3c1",
   "metadata": {},
   "outputs": [],
   "source": [
    "mean=oil['dcoilwtico'].mean()"
   ]
  },
  {
   "cell_type": "code",
   "execution_count": 14,
   "id": "ec317973",
   "metadata": {},
   "outputs": [],
   "source": [
    "#oil.fillna(mean)"
   ]
  },
  {
   "cell_type": "code",
   "execution_count": 15,
   "id": "61d60688",
   "metadata": {},
   "outputs": [],
   "source": [
    "train=train.merge(oil,on='date')"
   ]
  },
  {
   "cell_type": "code",
   "execution_count": 16,
   "id": "6e5d08c4",
   "metadata": {},
   "outputs": [],
   "source": [
    "train=train.fillna(mean)"
   ]
  },
  {
   "cell_type": "code",
   "execution_count": 17,
   "id": "58588b7e",
   "metadata": {},
   "outputs": [
    {
     "data": {
      "text/html": [
       "<div>\n",
       "<style scoped>\n",
       "    .dataframe tbody tr th:only-of-type {\n",
       "        vertical-align: middle;\n",
       "    }\n",
       "\n",
       "    .dataframe tbody tr th {\n",
       "        vertical-align: top;\n",
       "    }\n",
       "\n",
       "    .dataframe thead th {\n",
       "        text-align: right;\n",
       "    }\n",
       "</style>\n",
       "<table border=\"1\" class=\"dataframe\">\n",
       "  <thead>\n",
       "    <tr style=\"text-align: right;\">\n",
       "      <th></th>\n",
       "      <th>id</th>\n",
       "      <th>date</th>\n",
       "      <th>store_nbr</th>\n",
       "      <th>family</th>\n",
       "      <th>sales</th>\n",
       "      <th>onpromotion</th>\n",
       "      <th>type</th>\n",
       "      <th>locale</th>\n",
       "      <th>locale_name</th>\n",
       "      <th>dcoilwtico</th>\n",
       "    </tr>\n",
       "  </thead>\n",
       "  <tbody>\n",
       "    <tr>\n",
       "      <th>0</th>\n",
       "      <td>0</td>\n",
       "      <td>2013-01-01</td>\n",
       "      <td>1</td>\n",
       "      <td>AUTOMOTIVE</td>\n",
       "      <td>0.0</td>\n",
       "      <td>0</td>\n",
       "      <td>Holiday</td>\n",
       "      <td>National</td>\n",
       "      <td>Ecuador</td>\n",
       "      <td>67.714366</td>\n",
       "    </tr>\n",
       "    <tr>\n",
       "      <th>1</th>\n",
       "      <td>1</td>\n",
       "      <td>2013-01-01</td>\n",
       "      <td>1</td>\n",
       "      <td>BABY CARE</td>\n",
       "      <td>0.0</td>\n",
       "      <td>0</td>\n",
       "      <td>Holiday</td>\n",
       "      <td>National</td>\n",
       "      <td>Ecuador</td>\n",
       "      <td>67.714366</td>\n",
       "    </tr>\n",
       "  </tbody>\n",
       "</table>\n",
       "</div>"
      ],
      "text/plain": [
       "   id        date  store_nbr      family  sales  onpromotion     type  \\\n",
       "0   0  2013-01-01          1  AUTOMOTIVE    0.0            0  Holiday   \n",
       "1   1  2013-01-01          1   BABY CARE    0.0            0  Holiday   \n",
       "\n",
       "     locale locale_name  dcoilwtico  \n",
       "0  National     Ecuador   67.714366  \n",
       "1  National     Ecuador   67.714366  "
      ]
     },
     "execution_count": 17,
     "metadata": {},
     "output_type": "execute_result"
    }
   ],
   "source": [
    "train.head(2)"
   ]
  },
  {
   "cell_type": "code",
   "execution_count": 18,
   "id": "2076ffd0",
   "metadata": {},
   "outputs": [],
   "source": [
    "import matplotlib.pyplot as plt\n",
    "import seaborn as sns"
   ]
  },
  {
   "cell_type": "code",
   "execution_count": 19,
   "id": "70814cfe",
   "metadata": {},
   "outputs": [],
   "source": [
    "# sns.pairplot(train)"
   ]
  },
  {
   "cell_type": "code",
   "execution_count": 20,
   "id": "2ea6edc2",
   "metadata": {},
   "outputs": [
    {
     "data": {
      "text/plain": [
       "<AxesSubplot:xlabel='family', ylabel='sales'>"
      ]
     },
     "execution_count": 20,
     "metadata": {},
     "output_type": "execute_result"
    },
    {
     "data": {
      "image/png": "[encoded data removed]",
      "text/plain": [
       "<Figure size 432x288 with 1 Axes>"
      ]
     },
     "metadata": {
      "needs_background": "light"
     },
     "output_type": "display_data"
    }
   ],
   "source": [
    "sns.barplot(x='family',y='sales',data=train)"
   ]
  },
  {
   "cell_type": "code",
   "execution_count": 21,
   "id": "1a5d9d93",
   "metadata": {
    "scrolled": true
   },
   "outputs": [
    {
     "data": {
      "text/plain": [
       "<AxesSubplot:ylabel='sales'>"
      ]
     },
     "execution_count": 21,
     "metadata": {},
     "output_type": "execute_result"
    },
    {
     "data": {
      "image/png": "[encoded data removed]",
      "text/plain": [
       "<Figure size 432x288 with 1 Axes>"
      ]
     },
     "metadata": {
      "needs_background": "light"
     },
     "output_type": "display_data"
    }
   ],
   "source": [
    "sns.boxplot(y=train['sales'])"
   ]
  },
  {
   "cell_type": "code",
   "execution_count": 22,
   "id": "4b2d8873",
   "metadata": {},
   "outputs": [
    {
     "data": {
      "text/plain": [
       "<AxesSubplot:ylabel='sales'>"
      ]
     },
     "execution_count": 22,
     "metadata": {},
     "output_type": "execute_result"
    },
    {
     "data": {
      "image/png": "[encoded data removed]",
      "text/plain": [
       "<Figure size 432x288 with 1 Axes>"
      ]
     },
     "metadata": {
      "needs_background": "light"
     },
     "output_type": "display_data"
    }
   ],
   "source": [
    "import numpy as np\n",
    "Q1,Q3=train['sales'].quantile([.25,.75])\n",
    "interQuartileRange=Q3-Q1\n",
    "\n",
    "uperlimit=Q3+1.5*(interQuartileRange)\n",
    "\n",
    "lowerlimit=Q1-1.5*(interQuartileRange)\n",
    "\n",
    "outliers=train[train['sales']>uperlimit]\n",
    "outliers['sales'].value_counts()\n",
    "\n",
    "train['sales']=np.where(train['sales']>uperlimit,uperlimit,train['sales'])\n",
    "\n",
    "sns.boxplot(y=train['sales'])"
   ]
  },
  {
   "cell_type": "code",
   "execution_count": 23,
   "id": "d948cd0b",
   "metadata": {},
   "outputs": [
    {
     "data": {
      "text/plain": [
       "564     505.0\n",
       "573     505.0\n",
       "1822    505.0\n",
       "1827    505.0\n",
       "1851    505.0\n",
       "Name: sales, dtype: float64"
      ]
     },
     "execution_count": 23,
     "metadata": {},
     "output_type": "execute_result"
    }
   ],
   "source": [
    "train['sales'].nlargest()"
   ]
  },
  {
   "cell_type": "code",
   "execution_count": 24,
   "id": "168e4fe6",
   "metadata": {
    "scrolled": false
   },
   "outputs": [
    {
     "data": {
      "text/plain": [
       "<AxesSubplot:>"
      ]
     },
     "execution_count": 24,
     "metadata": {},
     "output_type": "execute_result"
    },
    {
     "data": {
      "image/png": "[encoded data removed]",
      "text/plain": [
       "<Figure size 432x288 with 1 Axes>"
      ]
     },
     "metadata": {
      "needs_background": "light"
     },
     "output_type": "display_data"
    }
   ],
   "source": [
    "train.boxplot(column=['sales','onpromotion','store_nbr'])"
   ]
  },
  {
   "cell_type": "code",
   "execution_count": 25,
   "id": "48dfe2d7",
   "metadata": {},
   "outputs": [
    {
     "data": {
      "text/plain": [
       "1     6534\n",
       "41    6534\n",
       "30    6534\n",
       "31    6534\n",
       "32    6534\n",
       "33    6534\n",
       "34    6534\n",
       "35    6534\n",
       "36    6534\n",
       "37    6534\n",
       "38    6534\n",
       "39    6534\n",
       "40    6534\n",
       "42    6534\n",
       "2     6534\n",
       "43    6534\n",
       "44    6534\n",
       "45    6534\n",
       "46    6534\n",
       "47    6534\n",
       "48    6534\n",
       "49    6534\n",
       "50    6534\n",
       "51    6534\n",
       "52    6534\n",
       "53    6534\n",
       "29    6534\n",
       "28    6534\n",
       "27    6534\n",
       "26    6534\n",
       "3     6534\n",
       "4     6534\n",
       "5     6534\n",
       "6     6534\n",
       "7     6534\n",
       "8     6534\n",
       "9     6534\n",
       "10    6534\n",
       "11    6534\n",
       "12    6534\n",
       "13    6534\n",
       "14    6534\n",
       "15    6534\n",
       "16    6534\n",
       "17    6534\n",
       "18    6534\n",
       "19    6534\n",
       "20    6534\n",
       "21    6534\n",
       "22    6534\n",
       "23    6534\n",
       "24    6534\n",
       "25    6534\n",
       "54    6534\n",
       "Name: store_nbr, dtype: int64"
      ]
     },
     "execution_count": 25,
     "metadata": {},
     "output_type": "execute_result"
    }
   ],
   "source": [
    "train['store_nbr'].value_counts()"
   ]
  },
  {
   "cell_type": "code",
   "execution_count": 61,
   "id": "ba0dc028",
   "metadata": {},
   "outputs": [
    {
     "data": {
      "text/plain": [
       "Index(['id', 'date', 'store_nbr_x', 'family', 'sales', 'onpromotion', 'type',\n",
       "       'locale', 'locale_name', 'dcoilwtico', 'store_nbr_y', 'transactions'],\n",
       "      dtype='object')"
      ]
     },
     "execution_count": 61,
     "metadata": {},
     "output_type": "execute_result"
    }
   ],
   "source": [
    "train.columns\n"
   ]
  },
  {
   "cell_type": "code",
   "execution_count": null,
   "id": "a481570b",
   "metadata": {},
   "outputs": [],
   "source": []
  },
  {
   "cell_type": "code",
   "execution_count": null,
   "id": "279391ec",
   "metadata": {
    "scrolled": true
   },
   "outputs": [],
   "source": [
    "# label encoding\n",
    "x=train[['id', 'date', 'store_nbr_x', 'family','onpromotion', 'type',\n",
    "       'locale', 'locale_name', 'dcoilwtico', 'store_nbr_y', 'transactions']].values\n",
    "from sklearn.preprocessing import LabelEncoder\n",
    "le = LabelEncoder()\n",
    "\n",
    "# x\n",
    "for i in range(len(x[0])):\n",
    "    x[:,i]=le.fit_transform(x[:,i])\n",
    "    \n",
    "# we have a situitation like in label or x there is no numbers \n",
    "# they are like clasification like low high \n",
    "# this method convert this low high in numbers 1 for low 5 high\n",
    "print(x)"
   ]
  },
  {
   "cell_type": "code",
   "execution_count": null,
   "id": "64ee0aa5",
   "metadata": {},
   "outputs": [],
   "source": []
  },
  {
   "cell_type": "code",
   "execution_count": 47,
   "id": "56b0840b",
   "metadata": {},
   "outputs": [
    {
     "data": {
      "text/html": [
       "<div>\n",
       "<style scoped>\n",
       "    .dataframe tbody tr th:only-of-type {\n",
       "        vertical-align: middle;\n",
       "    }\n",
       "\n",
       "    .dataframe tbody tr th {\n",
       "        vertical-align: top;\n",
       "    }\n",
       "\n",
       "    .dataframe thead th {\n",
       "        text-align: right;\n",
       "    }\n",
       "</style>\n",
       "<table border=\"1\" class=\"dataframe\">\n",
       "  <thead>\n",
       "    <tr style=\"text-align: right;\">\n",
       "      <th></th>\n",
       "      <th>id</th>\n",
       "      <th>date</th>\n",
       "      <th>store_nbr</th>\n",
       "      <th>family</th>\n",
       "      <th>sales</th>\n",
       "      <th>onpromotion</th>\n",
       "      <th>type</th>\n",
       "      <th>locale</th>\n",
       "      <th>locale_name</th>\n",
       "      <th>dcoilwtico</th>\n",
       "    </tr>\n",
       "  </thead>\n",
       "  <tbody>\n",
       "    <tr>\n",
       "      <th>0</th>\n",
       "      <td>0</td>\n",
       "      <td>0</td>\n",
       "      <td>0</td>\n",
       "      <td>0</td>\n",
       "      <td>0</td>\n",
       "      <td>0</td>\n",
       "      <td>3</td>\n",
       "      <td>1</td>\n",
       "      <td>4</td>\n",
       "      <td>107</td>\n",
       "    </tr>\n",
       "    <tr>\n",
       "      <th>1</th>\n",
       "      <td>1</td>\n",
       "      <td>0</td>\n",
       "      <td>0</td>\n",
       "      <td>1</td>\n",
       "      <td>0</td>\n",
       "      <td>0</td>\n",
       "      <td>3</td>\n",
       "      <td>1</td>\n",
       "      <td>4</td>\n",
       "      <td>107</td>\n",
       "    </tr>\n",
       "  </tbody>\n",
       "</table>\n",
       "</div>"
      ],
      "text/plain": [
       "  id date store_nbr family sales onpromotion type locale locale_name  \\\n",
       "0  0    0         0      0     0           0    3      1           4   \n",
       "1  1    0         0      1     0           0    3      1           4   \n",
       "\n",
       "  dcoilwtico  \n",
       "0        107  \n",
       "1        107  "
      ]
     },
     "execution_count": 47,
     "metadata": {},
     "output_type": "execute_result"
    }
   ],
   "source": [
    "from sklearn.preprocessing import StandardScaler\n",
    "scaler = StandardScaler()\n",
    "data_scaled = scaler.fit_transform(x)\n",
    "data_scaled = pd.DataFrame(x, columns=train.columns)\n",
    "data_scaled.head(2)"
   ]
  },
  {
   "cell_type": "code",
   "execution_count": 48,
   "id": "7abdcc09",
   "metadata": {},
   "outputs": [],
   "source": [
    "from sklearn.linear_model import LinearRegression\n",
    "from sklearn.tree import DecisionTreeRegressor\n",
    "from sklearn.ensemble import RandomForestRegressor\n",
    "from sklearn.neighbors import KNeighborsRegressor"
   ]
  },
  {
   "cell_type": "code",
   "execution_count": 54,
   "id": "b87f7734",
   "metadata": {},
   "outputs": [],
   "source": [
    "x=data_scaled.drop(['locale_name','family','date','id','sales'],axis=1)\n",
    "y=data_scaled['sales']\n"
   ]
  },
  {
   "cell_type": "code",
   "execution_count": 55,
   "id": "1dc237c7",
   "metadata": {},
   "outputs": [],
   "source": [
    " from sklearn.model_selection import train_test_split\n",
    "                                          # to import train_test_split\n",
    "x_train,x_test,y_train,y_test=train_test_split(x,y,test_size=0.3)"
   ]
  },
  {
   "cell_type": "code",
   "execution_count": 56,
   "id": "3f8031a0",
   "metadata": {},
   "outputs": [],
   "source": [
    "\n",
    "#sup=LinearRegression()\n",
    "#sup=DecisionTreeRegressor()\n",
    "sup=RandomForestRegressor(oob_score = True,random_state =50, min_samples_leaf = 52)\n",
    "#sup = KNeighborsRegressor(n_neighbors=10)\n",
    "# sup=svm.SVC(kernel='rbf', C=1,gamma=1.0)\n",
    "\n",
    "sup.fit(x_train,y_train)             \n",
    "# for training fit is linear regre function\n",
    "\n",
    "y_pred=sup.predict(x_test)      \n",
    "\n",
    "# to predict values by giving different x valuesb"
   ]
  },
  {
   "cell_type": "code",
   "execution_count": 57,
   "id": "9ded07a7",
   "metadata": {},
   "outputs": [
    {
     "data": {
      "text/plain": [
       "98633011.69476525"
      ]
     },
     "execution_count": 57,
     "metadata": {},
     "output_type": "execute_result"
    }
   ],
   "source": [
    "from sklearn.metrics import mean_squared_error\n",
    "                                              # to find accuracy\n",
    "mean_squared_error(y_test,y_pred)\n",
    "# the lower the value the better and 0 means the model is perfect"
   ]
  },
  {
   "cell_type": "code",
   "execution_count": null,
   "id": "3f180536",
   "metadata": {},
   "outputs": [],
   "source": [
    "98633011\n",
    "99618881\n",
    "118536455\n",
    "153903876"
   ]
  },
  {
   "cell_type": "code",
   "execution_count": null,
   "id": "446cf5b1",
   "metadata": {},
   "outputs": [],
   "source": []
  },
  {
   "cell_type": "code",
   "execution_count": 34,
   "id": "368adf92",
   "metadata": {},
   "outputs": [],
   "source": [
    "#finaldt=pd.DataFrame()\n",
    "#finaldt['PassengerId']=PassengerId\n",
    "#finaldt['survived']=y_final"
   ]
  }
 ],
 "metadata": {
  "kernelspec": {
   "display_name": "Python 3",
   "language": "python",
   "name": "python3"
  },
  "language_info": {
   "codemirror_mode": {
    "name": "ipython",
    "version": 3
   },
   "file_extension": ".py",
   "mimetype": "text/x-python",
   "name": "python",
   "nbconvert_exporter": "python",
   "pygments_lexer": "ipython3",
   "version": "3.8.8"
  }
 },
 "nbformat": 4,
 "nbformat_minor": 5
}
