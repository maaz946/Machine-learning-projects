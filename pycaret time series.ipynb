{
 "cells": [
  {
   "cell_type": "code",
   "execution_count": 1,
   "id": "55fb271a",
   "metadata": {},
   "outputs": [],
   "source": [
    "import pandas as pd"
   ]
  },
  {
   "cell_type": "code",
   "execution_count": 2,
   "id": "7baf31e0",
   "metadata": {},
   "outputs": [],
   "source": [
    "train=pd.read_csv(r'E:\\kiet files\\4 semister\\csv files\\store-sales-time-series-forecasting\\train.csv')\n",
    "test=pd.read_csv(r'E:\\kiet files\\4 semister\\csv files\\store-sales-time-series-forecasting\\test.csv')\n",
    "oil=pd.read_csv(r'E:\\kiet files\\4 semister\\csv files\\store-sales-time-series-forecasting\\oil.csv')\n",
    "holidays_events=pd.read_csv(r'E:\\kiet files\\4 semister\\csv files\\store-sales-time-series-forecasting\\holidays_events.csv')\n",
    "transactions=pd.read_csv(r'E:\\kiet files\\4 semister\\csv files\\store-sales-time-series-forecasting\\transactions.csv')"
   ]
  },
  {
   "cell_type": "code",
   "execution_count": 3,
   "id": "64686a14",
   "metadata": {
    "scrolled": true
   },
   "outputs": [
    {
     "data": {
      "text/html": [
       "<div>\n",
       "<style scoped>\n",
       "    .dataframe tbody tr th:only-of-type {\n",
       "        vertical-align: middle;\n",
       "    }\n",
       "\n",
       "    .dataframe tbody tr th {\n",
       "        vertical-align: top;\n",
       "    }\n",
       "\n",
       "    .dataframe thead th {\n",
       "        text-align: right;\n",
       "    }\n",
       "</style>\n",
       "<table border=\"1\" class=\"dataframe\">\n",
       "  <thead>\n",
       "    <tr style=\"text-align: right;\">\n",
       "      <th></th>\n",
       "      <th>id</th>\n",
       "      <th>date</th>\n",
       "      <th>store_nbr</th>\n",
       "      <th>family</th>\n",
       "      <th>sales</th>\n",
       "      <th>onpromotion</th>\n",
       "    </tr>\n",
       "  </thead>\n",
       "  <tbody>\n",
       "    <tr>\n",
       "      <th>0</th>\n",
       "      <td>0</td>\n",
       "      <td>2013-01-01</td>\n",
       "      <td>1</td>\n",
       "      <td>AUTOMOTIVE</td>\n",
       "      <td>0.0</td>\n",
       "      <td>0</td>\n",
       "    </tr>\n",
       "    <tr>\n",
       "      <th>1</th>\n",
       "      <td>1</td>\n",
       "      <td>2013-01-01</td>\n",
       "      <td>1</td>\n",
       "      <td>BABY CARE</td>\n",
       "      <td>0.0</td>\n",
       "      <td>0</td>\n",
       "    </tr>\n",
       "  </tbody>\n",
       "</table>\n",
       "</div>"
      ],
      "text/plain": [
       "   id        date  store_nbr      family  sales  onpromotion\n",
       "0   0  2013-01-01          1  AUTOMOTIVE    0.0            0\n",
       "1   1  2013-01-01          1   BABY CARE    0.0            0"
      ]
     },
     "execution_count": 3,
     "metadata": {},
     "output_type": "execute_result"
    }
   ],
   "source": [
    "train.head(2)"
   ]
  },
  {
   "cell_type": "code",
   "execution_count": 4,
   "id": "e862e472",
   "metadata": {
    "scrolled": true
   },
   "outputs": [
    {
     "data": {
      "text/plain": [
       "(3000888, 6)"
      ]
     },
     "execution_count": 4,
     "metadata": {},
     "output_type": "execute_result"
    }
   ],
   "source": [
    "train.shape"
   ]
  },
  {
   "cell_type": "code",
   "execution_count": 5,
   "id": "89956472",
   "metadata": {
    "scrolled": true
   },
   "outputs": [
    {
     "data": {
      "text/html": [
       "<div>\n",
       "<style scoped>\n",
       "    .dataframe tbody tr th:only-of-type {\n",
       "        vertical-align: middle;\n",
       "    }\n",
       "\n",
       "    .dataframe tbody tr th {\n",
       "        vertical-align: top;\n",
       "    }\n",
       "\n",
       "    .dataframe thead th {\n",
       "        text-align: right;\n",
       "    }\n",
       "</style>\n",
       "<table border=\"1\" class=\"dataframe\">\n",
       "  <thead>\n",
       "    <tr style=\"text-align: right;\">\n",
       "      <th></th>\n",
       "      <th>date</th>\n",
       "      <th>type</th>\n",
       "      <th>locale</th>\n",
       "      <th>locale_name</th>\n",
       "      <th>description</th>\n",
       "      <th>transferred</th>\n",
       "    </tr>\n",
       "  </thead>\n",
       "  <tbody>\n",
       "    <tr>\n",
       "      <th>0</th>\n",
       "      <td>2012-03-02</td>\n",
       "      <td>Holiday</td>\n",
       "      <td>Local</td>\n",
       "      <td>Manta</td>\n",
       "      <td>Fundacion de Manta</td>\n",
       "      <td>False</td>\n",
       "    </tr>\n",
       "    <tr>\n",
       "      <th>1</th>\n",
       "      <td>2012-04-01</td>\n",
       "      <td>Holiday</td>\n",
       "      <td>Regional</td>\n",
       "      <td>Cotopaxi</td>\n",
       "      <td>Provincializacion de Cotopaxi</td>\n",
       "      <td>False</td>\n",
       "    </tr>\n",
       "  </tbody>\n",
       "</table>\n",
       "</div>"
      ],
      "text/plain": [
       "         date     type    locale locale_name                    description  \\\n",
       "0  2012-03-02  Holiday     Local       Manta             Fundacion de Manta   \n",
       "1  2012-04-01  Holiday  Regional    Cotopaxi  Provincializacion de Cotopaxi   \n",
       "\n",
       "   transferred  \n",
       "0        False  \n",
       "1        False  "
      ]
     },
     "execution_count": 5,
     "metadata": {},
     "output_type": "execute_result"
    }
   ],
   "source": [
    "holidays_events.head(2)"
   ]
  },
  {
   "cell_type": "code",
   "execution_count": 6,
   "id": "e587f307",
   "metadata": {
    "scrolled": true
   },
   "outputs": [
    {
     "data": {
      "text/plain": [
       "(350, 6)"
      ]
     },
     "execution_count": 6,
     "metadata": {},
     "output_type": "execute_result"
    }
   ],
   "source": [
    "holidays_events.shape"
   ]
  },
  {
   "cell_type": "code",
   "execution_count": 7,
   "id": "b76472ee",
   "metadata": {},
   "outputs": [],
   "source": [
    "holidays_events=holidays_events[holidays_events['date']>'2013-01-01']"
   ]
  },
  {
   "cell_type": "code",
   "execution_count": 8,
   "id": "7437c0f2",
   "metadata": {},
   "outputs": [
    {
     "data": {
      "text/html": [
       "<div>\n",
       "<style scoped>\n",
       "    .dataframe tbody tr th:only-of-type {\n",
       "        vertical-align: middle;\n",
       "    }\n",
       "\n",
       "    .dataframe tbody tr th {\n",
       "        vertical-align: top;\n",
       "    }\n",
       "\n",
       "    .dataframe thead th {\n",
       "        text-align: right;\n",
       "    }\n",
       "</style>\n",
       "<table border=\"1\" class=\"dataframe\">\n",
       "  <thead>\n",
       "    <tr style=\"text-align: right;\">\n",
       "      <th></th>\n",
       "      <th>date</th>\n",
       "      <th>type</th>\n",
       "      <th>locale</th>\n",
       "      <th>locale_name</th>\n",
       "      <th>description</th>\n",
       "      <th>transferred</th>\n",
       "    </tr>\n",
       "  </thead>\n",
       "  <tbody>\n",
       "    <tr>\n",
       "      <th>42</th>\n",
       "      <td>2013-01-05</td>\n",
       "      <td>Work Day</td>\n",
       "      <td>National</td>\n",
       "      <td>Ecuador</td>\n",
       "      <td>Recupero puente Navidad</td>\n",
       "      <td>False</td>\n",
       "    </tr>\n",
       "    <tr>\n",
       "      <th>43</th>\n",
       "      <td>2013-01-12</td>\n",
       "      <td>Work Day</td>\n",
       "      <td>National</td>\n",
       "      <td>Ecuador</td>\n",
       "      <td>Recupero puente primer dia del ano</td>\n",
       "      <td>False</td>\n",
       "    </tr>\n",
       "    <tr>\n",
       "      <th>44</th>\n",
       "      <td>2013-02-11</td>\n",
       "      <td>Holiday</td>\n",
       "      <td>National</td>\n",
       "      <td>Ecuador</td>\n",
       "      <td>Carnaval</td>\n",
       "      <td>False</td>\n",
       "    </tr>\n",
       "    <tr>\n",
       "      <th>45</th>\n",
       "      <td>2013-02-12</td>\n",
       "      <td>Holiday</td>\n",
       "      <td>National</td>\n",
       "      <td>Ecuador</td>\n",
       "      <td>Carnaval</td>\n",
       "      <td>False</td>\n",
       "    </tr>\n",
       "    <tr>\n",
       "      <th>46</th>\n",
       "      <td>2013-03-02</td>\n",
       "      <td>Holiday</td>\n",
       "      <td>Local</td>\n",
       "      <td>Manta</td>\n",
       "      <td>Fundacion de Manta</td>\n",
       "      <td>False</td>\n",
       "    </tr>\n",
       "    <tr>\n",
       "      <th>...</th>\n",
       "      <td>...</td>\n",
       "      <td>...</td>\n",
       "      <td>...</td>\n",
       "      <td>...</td>\n",
       "      <td>...</td>\n",
       "      <td>...</td>\n",
       "    </tr>\n",
       "    <tr>\n",
       "      <th>345</th>\n",
       "      <td>2017-12-22</td>\n",
       "      <td>Additional</td>\n",
       "      <td>National</td>\n",
       "      <td>Ecuador</td>\n",
       "      <td>Navidad-3</td>\n",
       "      <td>False</td>\n",
       "    </tr>\n",
       "    <tr>\n",
       "      <th>346</th>\n",
       "      <td>2017-12-23</td>\n",
       "      <td>Additional</td>\n",
       "      <td>National</td>\n",
       "      <td>Ecuador</td>\n",
       "      <td>Navidad-2</td>\n",
       "      <td>False</td>\n",
       "    </tr>\n",
       "    <tr>\n",
       "      <th>347</th>\n",
       "      <td>2017-12-24</td>\n",
       "      <td>Additional</td>\n",
       "      <td>National</td>\n",
       "      <td>Ecuador</td>\n",
       "      <td>Navidad-1</td>\n",
       "      <td>False</td>\n",
       "    </tr>\n",
       "    <tr>\n",
       "      <th>348</th>\n",
       "      <td>2017-12-25</td>\n",
       "      <td>Holiday</td>\n",
       "      <td>National</td>\n",
       "      <td>Ecuador</td>\n",
       "      <td>Navidad</td>\n",
       "      <td>False</td>\n",
       "    </tr>\n",
       "    <tr>\n",
       "      <th>349</th>\n",
       "      <td>2017-12-26</td>\n",
       "      <td>Additional</td>\n",
       "      <td>National</td>\n",
       "      <td>Ecuador</td>\n",
       "      <td>Navidad+1</td>\n",
       "      <td>False</td>\n",
       "    </tr>\n",
       "  </tbody>\n",
       "</table>\n",
       "<p>308 rows × 6 columns</p>\n",
       "</div>"
      ],
      "text/plain": [
       "           date        type    locale locale_name  \\\n",
       "42   2013-01-05    Work Day  National     Ecuador   \n",
       "43   2013-01-12    Work Day  National     Ecuador   \n",
       "44   2013-02-11     Holiday  National     Ecuador   \n",
       "45   2013-02-12     Holiday  National     Ecuador   \n",
       "46   2013-03-02     Holiday     Local       Manta   \n",
       "..          ...         ...       ...         ...   \n",
       "345  2017-12-22  Additional  National     Ecuador   \n",
       "346  2017-12-23  Additional  National     Ecuador   \n",
       "347  2017-12-24  Additional  National     Ecuador   \n",
       "348  2017-12-25     Holiday  National     Ecuador   \n",
       "349  2017-12-26  Additional  National     Ecuador   \n",
       "\n",
       "                            description  transferred  \n",
       "42              Recupero puente Navidad        False  \n",
       "43   Recupero puente primer dia del ano        False  \n",
       "44                             Carnaval        False  \n",
       "45                             Carnaval        False  \n",
       "46                   Fundacion de Manta        False  \n",
       "..                                  ...          ...  \n",
       "345                           Navidad-3        False  \n",
       "346                           Navidad-2        False  \n",
       "347                           Navidad-1        False  \n",
       "348                             Navidad        False  \n",
       "349                           Navidad+1        False  \n",
       "\n",
       "[308 rows x 6 columns]"
      ]
     },
     "execution_count": 8,
     "metadata": {},
     "output_type": "execute_result"
    }
   ],
   "source": [
    "holidays_events"
   ]
  },
  {
   "cell_type": "code",
   "execution_count": 9,
   "id": "1d0d2d45",
   "metadata": {},
   "outputs": [
    {
     "data": {
      "text/html": [
       "<div>\n",
       "<style scoped>\n",
       "    .dataframe tbody tr th:only-of-type {\n",
       "        vertical-align: middle;\n",
       "    }\n",
       "\n",
       "    .dataframe tbody tr th {\n",
       "        vertical-align: top;\n",
       "    }\n",
       "\n",
       "    .dataframe thead th {\n",
       "        text-align: right;\n",
       "    }\n",
       "</style>\n",
       "<table border=\"1\" class=\"dataframe\">\n",
       "  <thead>\n",
       "    <tr style=\"text-align: right;\">\n",
       "      <th></th>\n",
       "      <th>date</th>\n",
       "      <th>dcoilwtico</th>\n",
       "    </tr>\n",
       "  </thead>\n",
       "  <tbody>\n",
       "    <tr>\n",
       "      <th>0</th>\n",
       "      <td>2013-01-01</td>\n",
       "      <td>NaN</td>\n",
       "    </tr>\n",
       "    <tr>\n",
       "      <th>1</th>\n",
       "      <td>2013-01-02</td>\n",
       "      <td>93.14</td>\n",
       "    </tr>\n",
       "  </tbody>\n",
       "</table>\n",
       "</div>"
      ],
      "text/plain": [
       "         date  dcoilwtico\n",
       "0  2013-01-01         NaN\n",
       "1  2013-01-02       93.14"
      ]
     },
     "execution_count": 9,
     "metadata": {},
     "output_type": "execute_result"
    }
   ],
   "source": [
    "oil.head(2)"
   ]
  },
  {
   "cell_type": "code",
   "execution_count": 10,
   "id": "92b2abb5",
   "metadata": {},
   "outputs": [
    {
     "data": {
      "text/html": [
       "<div>\n",
       "<style scoped>\n",
       "    .dataframe tbody tr th:only-of-type {\n",
       "        vertical-align: middle;\n",
       "    }\n",
       "\n",
       "    .dataframe tbody tr th {\n",
       "        vertical-align: top;\n",
       "    }\n",
       "\n",
       "    .dataframe thead th {\n",
       "        text-align: right;\n",
       "    }\n",
       "</style>\n",
       "<table border=\"1\" class=\"dataframe\">\n",
       "  <thead>\n",
       "    <tr style=\"text-align: right;\">\n",
       "      <th></th>\n",
       "      <th>id</th>\n",
       "      <th>date</th>\n",
       "      <th>store_nbr</th>\n",
       "      <th>family</th>\n",
       "      <th>onpromotion</th>\n",
       "    </tr>\n",
       "  </thead>\n",
       "  <tbody>\n",
       "    <tr>\n",
       "      <th>0</th>\n",
       "      <td>3000888</td>\n",
       "      <td>2017-08-16</td>\n",
       "      <td>1</td>\n",
       "      <td>AUTOMOTIVE</td>\n",
       "      <td>0</td>\n",
       "    </tr>\n",
       "    <tr>\n",
       "      <th>1</th>\n",
       "      <td>3000889</td>\n",
       "      <td>2017-08-16</td>\n",
       "      <td>1</td>\n",
       "      <td>BABY CARE</td>\n",
       "      <td>0</td>\n",
       "    </tr>\n",
       "  </tbody>\n",
       "</table>\n",
       "</div>"
      ],
      "text/plain": [
       "        id        date  store_nbr      family  onpromotion\n",
       "0  3000888  2017-08-16          1  AUTOMOTIVE            0\n",
       "1  3000889  2017-08-16          1   BABY CARE            0"
      ]
     },
     "execution_count": 10,
     "metadata": {},
     "output_type": "execute_result"
    }
   ],
   "source": [
    "test.head(2)"
   ]
  },
  {
   "cell_type": "code",
   "execution_count": 11,
   "id": "b9c20b90",
   "metadata": {},
   "outputs": [
    {
     "data": {
      "text/html": [
       "<div>\n",
       "<style scoped>\n",
       "    .dataframe tbody tr th:only-of-type {\n",
       "        vertical-align: middle;\n",
       "    }\n",
       "\n",
       "    .dataframe tbody tr th {\n",
       "        vertical-align: top;\n",
       "    }\n",
       "\n",
       "    .dataframe thead th {\n",
       "        text-align: right;\n",
       "    }\n",
       "</style>\n",
       "<table border=\"1\" class=\"dataframe\">\n",
       "  <thead>\n",
       "    <tr style=\"text-align: right;\">\n",
       "      <th></th>\n",
       "      <th>date</th>\n",
       "      <th>store_nbr</th>\n",
       "      <th>transactions</th>\n",
       "    </tr>\n",
       "  </thead>\n",
       "  <tbody>\n",
       "    <tr>\n",
       "      <th>0</th>\n",
       "      <td>2013-01-01</td>\n",
       "      <td>25</td>\n",
       "      <td>770</td>\n",
       "    </tr>\n",
       "    <tr>\n",
       "      <th>1</th>\n",
       "      <td>2013-01-02</td>\n",
       "      <td>1</td>\n",
       "      <td>2111</td>\n",
       "    </tr>\n",
       "  </tbody>\n",
       "</table>\n",
       "</div>"
      ],
      "text/plain": [
       "         date  store_nbr  transactions\n",
       "0  2013-01-01         25           770\n",
       "1  2013-01-02          1          2111"
      ]
     },
     "execution_count": 11,
     "metadata": {},
     "output_type": "execute_result"
    }
   ],
   "source": [
    "transactions.head(2)"
   ]
  },
  {
   "cell_type": "code",
   "execution_count": 12,
   "id": "3c3d1a02",
   "metadata": {},
   "outputs": [
    {
     "name": "stdout",
     "output_type": "stream",
     "text": [
      "<class 'pandas.core.frame.DataFrame'>\n",
      "RangeIndex: 3000888 entries, 0 to 3000887\n",
      "Data columns (total 6 columns):\n",
      " #   Column       Dtype  \n",
      "---  ------       -----  \n",
      " 0   id           int64  \n",
      " 1   date         object \n",
      " 2   store_nbr    int64  \n",
      " 3   family       object \n",
      " 4   sales        float64\n",
      " 5   onpromotion  int64  \n",
      "dtypes: float64(1), int64(3), object(2)\n",
      "memory usage: 137.4+ MB\n"
     ]
    }
   ],
   "source": [
    "train.info()"
   ]
  },
  {
   "cell_type": "code",
   "execution_count": 13,
   "id": "73e658e4",
   "metadata": {},
   "outputs": [
    {
     "data": {
      "text/html": [
       "<div>\n",
       "<style scoped>\n",
       "    .dataframe tbody tr th:only-of-type {\n",
       "        vertical-align: middle;\n",
       "    }\n",
       "\n",
       "    .dataframe tbody tr th {\n",
       "        vertical-align: top;\n",
       "    }\n",
       "\n",
       "    .dataframe thead th {\n",
       "        text-align: right;\n",
       "    }\n",
       "</style>\n",
       "<table border=\"1\" class=\"dataframe\">\n",
       "  <thead>\n",
       "    <tr style=\"text-align: right;\">\n",
       "      <th></th>\n",
       "      <th>id</th>\n",
       "      <th>store_nbr</th>\n",
       "      <th>sales</th>\n",
       "      <th>onpromotion</th>\n",
       "    </tr>\n",
       "  </thead>\n",
       "  <tbody>\n",
       "    <tr>\n",
       "      <th>count</th>\n",
       "      <td>3.000888e+06</td>\n",
       "      <td>3.000888e+06</td>\n",
       "      <td>3.000888e+06</td>\n",
       "      <td>3.000888e+06</td>\n",
       "    </tr>\n",
       "    <tr>\n",
       "      <th>mean</th>\n",
       "      <td>1.500444e+06</td>\n",
       "      <td>2.750000e+01</td>\n",
       "      <td>3.577757e+02</td>\n",
       "      <td>2.602770e+00</td>\n",
       "    </tr>\n",
       "    <tr>\n",
       "      <th>std</th>\n",
       "      <td>8.662819e+05</td>\n",
       "      <td>1.558579e+01</td>\n",
       "      <td>1.101998e+03</td>\n",
       "      <td>1.221888e+01</td>\n",
       "    </tr>\n",
       "    <tr>\n",
       "      <th>min</th>\n",
       "      <td>0.000000e+00</td>\n",
       "      <td>1.000000e+00</td>\n",
       "      <td>0.000000e+00</td>\n",
       "      <td>0.000000e+00</td>\n",
       "    </tr>\n",
       "    <tr>\n",
       "      <th>25%</th>\n",
       "      <td>7.502218e+05</td>\n",
       "      <td>1.400000e+01</td>\n",
       "      <td>0.000000e+00</td>\n",
       "      <td>0.000000e+00</td>\n",
       "    </tr>\n",
       "    <tr>\n",
       "      <th>50%</th>\n",
       "      <td>1.500444e+06</td>\n",
       "      <td>2.750000e+01</td>\n",
       "      <td>1.100000e+01</td>\n",
       "      <td>0.000000e+00</td>\n",
       "    </tr>\n",
       "    <tr>\n",
       "      <th>75%</th>\n",
       "      <td>2.250665e+06</td>\n",
       "      <td>4.100000e+01</td>\n",
       "      <td>1.958473e+02</td>\n",
       "      <td>0.000000e+00</td>\n",
       "    </tr>\n",
       "    <tr>\n",
       "      <th>max</th>\n",
       "      <td>3.000887e+06</td>\n",
       "      <td>5.400000e+01</td>\n",
       "      <td>1.247170e+05</td>\n",
       "      <td>7.410000e+02</td>\n",
       "    </tr>\n",
       "  </tbody>\n",
       "</table>\n",
       "</div>"
      ],
      "text/plain": [
       "                 id     store_nbr         sales   onpromotion\n",
       "count  3.000888e+06  3.000888e+06  3.000888e+06  3.000888e+06\n",
       "mean   1.500444e+06  2.750000e+01  3.577757e+02  2.602770e+00\n",
       "std    8.662819e+05  1.558579e+01  1.101998e+03  1.221888e+01\n",
       "min    0.000000e+00  1.000000e+00  0.000000e+00  0.000000e+00\n",
       "25%    7.502218e+05  1.400000e+01  0.000000e+00  0.000000e+00\n",
       "50%    1.500444e+06  2.750000e+01  1.100000e+01  0.000000e+00\n",
       "75%    2.250665e+06  4.100000e+01  1.958473e+02  0.000000e+00\n",
       "max    3.000887e+06  5.400000e+01  1.247170e+05  7.410000e+02"
      ]
     },
     "execution_count": 13,
     "metadata": {},
     "output_type": "execute_result"
    }
   ],
   "source": [
    "train.describe()"
   ]
  },
  {
   "cell_type": "code",
   "execution_count": 14,
   "id": "c8204b4a",
   "metadata": {},
   "outputs": [],
   "source": [
    "#train=train.merge(oil,on='date')"
   ]
  },
  {
   "cell_type": "code",
   "execution_count": 15,
   "id": "78990f67",
   "metadata": {},
   "outputs": [],
   "source": [
    "#train=train.merge(holidays_events,on='date')"
   ]
  },
  {
   "cell_type": "code",
   "execution_count": 16,
   "id": "e009ba0c",
   "metadata": {},
   "outputs": [],
   "source": [
    "#train=train.merge(transactions,on='date')"
   ]
  },
  {
   "cell_type": "code",
   "execution_count": 17,
   "id": "b77c7b29",
   "metadata": {},
   "outputs": [
    {
     "data": {
      "text/html": [
       "<div>\n",
       "<style scoped>\n",
       "    .dataframe tbody tr th:only-of-type {\n",
       "        vertical-align: middle;\n",
       "    }\n",
       "\n",
       "    .dataframe tbody tr th {\n",
       "        vertical-align: top;\n",
       "    }\n",
       "\n",
       "    .dataframe thead th {\n",
       "        text-align: right;\n",
       "    }\n",
       "</style>\n",
       "<table border=\"1\" class=\"dataframe\">\n",
       "  <thead>\n",
       "    <tr style=\"text-align: right;\">\n",
       "      <th></th>\n",
       "      <th>id</th>\n",
       "      <th>date</th>\n",
       "      <th>store_nbr</th>\n",
       "      <th>family</th>\n",
       "      <th>sales</th>\n",
       "      <th>onpromotion</th>\n",
       "    </tr>\n",
       "  </thead>\n",
       "  <tbody>\n",
       "    <tr>\n",
       "      <th>0</th>\n",
       "      <td>0</td>\n",
       "      <td>2013-01-01</td>\n",
       "      <td>1</td>\n",
       "      <td>AUTOMOTIVE</td>\n",
       "      <td>0.0</td>\n",
       "      <td>0</td>\n",
       "    </tr>\n",
       "    <tr>\n",
       "      <th>1</th>\n",
       "      <td>1</td>\n",
       "      <td>2013-01-01</td>\n",
       "      <td>1</td>\n",
       "      <td>BABY CARE</td>\n",
       "      <td>0.0</td>\n",
       "      <td>0</td>\n",
       "    </tr>\n",
       "  </tbody>\n",
       "</table>\n",
       "</div>"
      ],
      "text/plain": [
       "   id        date  store_nbr      family  sales  onpromotion\n",
       "0   0  2013-01-01          1  AUTOMOTIVE    0.0            0\n",
       "1   1  2013-01-01          1   BABY CARE    0.0            0"
      ]
     },
     "execution_count": 17,
     "metadata": {},
     "output_type": "execute_result"
    }
   ],
   "source": [
    "train.head(2)"
   ]
  },
  {
   "cell_type": "code",
   "execution_count": 18,
   "id": "01a14158",
   "metadata": {},
   "outputs": [],
   "source": [
    "#train['dcoilwtico'].isnull().sum()"
   ]
  },
  {
   "cell_type": "code",
   "execution_count": 19,
   "id": "a4854689",
   "metadata": {},
   "outputs": [],
   "source": [
    "#train['dcoilwtico'].value_counts()"
   ]
  },
  {
   "cell_type": "code",
   "execution_count": 20,
   "id": "f4095b0f",
   "metadata": {
    "scrolled": true
   },
   "outputs": [
    {
     "name": "stdout",
     "output_type": "stream",
     "text": [
      "<class 'pandas.core.frame.DataFrame'>\n",
      "RangeIndex: 3000888 entries, 0 to 3000887\n",
      "Data columns (total 6 columns):\n",
      " #   Column       Dtype  \n",
      "---  ------       -----  \n",
      " 0   id           int64  \n",
      " 1   date         object \n",
      " 2   store_nbr    int64  \n",
      " 3   family       object \n",
      " 4   sales        float64\n",
      " 5   onpromotion  int64  \n",
      "dtypes: float64(1), int64(3), object(2)\n",
      "memory usage: 137.4+ MB\n"
     ]
    }
   ],
   "source": [
    "train.info()"
   ]
  },
  {
   "cell_type": "code",
   "execution_count": 21,
   "id": "a6535d69",
   "metadata": {},
   "outputs": [
    {
     "data": {
      "text/plain": [
       "Index(['id', 'date', 'store_nbr', 'family', 'sales', 'onpromotion'], dtype='object')"
      ]
     },
     "execution_count": 21,
     "metadata": {},
     "output_type": "execute_result"
    }
   ],
   "source": [
    "train.columns"
   ]
  },
  {
   "cell_type": "code",
   "execution_count": 22,
   "id": "286408bc",
   "metadata": {},
   "outputs": [],
   "source": [
    "# import matplotlib.pyplot as plt\n",
    "#import seaborn as sns"
   ]
  },
  {
   "cell_type": "code",
   "execution_count": 23,
   "id": "de26d255",
   "metadata": {},
   "outputs": [],
   "source": [
    "#train.hist(figsize=(20,15))  # column=['',''],\n",
    "#plt.show()"
   ]
  },
  {
   "cell_type": "code",
   "execution_count": 24,
   "id": "ea509d62",
   "metadata": {},
   "outputs": [],
   "source": [
    "# sns.heatmap(train.corr())"
   ]
  },
  {
   "cell_type": "code",
   "execution_count": 25,
   "id": "d66518de",
   "metadata": {},
   "outputs": [],
   "source": [
    "# train=train.groupby('date').agg(sum)\n",
    "# train=train.merge(holidays_events,on='date')"
   ]
  },
  {
   "cell_type": "code",
   "execution_count": 26,
   "id": "50eec53b",
   "metadata": {
    "scrolled": true
   },
   "outputs": [
    {
     "data": {
      "text/html": [
       "<div>\n",
       "<style scoped>\n",
       "    .dataframe tbody tr th:only-of-type {\n",
       "        vertical-align: middle;\n",
       "    }\n",
       "\n",
       "    .dataframe tbody tr th {\n",
       "        vertical-align: top;\n",
       "    }\n",
       "\n",
       "    .dataframe thead th {\n",
       "        text-align: right;\n",
       "    }\n",
       "</style>\n",
       "<table border=\"1\" class=\"dataframe\">\n",
       "  <thead>\n",
       "    <tr style=\"text-align: right;\">\n",
       "      <th></th>\n",
       "      <th>id</th>\n",
       "      <th>date</th>\n",
       "      <th>store_nbr</th>\n",
       "      <th>family</th>\n",
       "      <th>sales</th>\n",
       "      <th>onpromotion</th>\n",
       "    </tr>\n",
       "  </thead>\n",
       "  <tbody>\n",
       "    <tr>\n",
       "      <th>0</th>\n",
       "      <td>0</td>\n",
       "      <td>2013-01-01</td>\n",
       "      <td>1</td>\n",
       "      <td>AUTOMOTIVE</td>\n",
       "      <td>0.0</td>\n",
       "      <td>0</td>\n",
       "    </tr>\n",
       "    <tr>\n",
       "      <th>1</th>\n",
       "      <td>1</td>\n",
       "      <td>2013-01-01</td>\n",
       "      <td>1</td>\n",
       "      <td>BABY CARE</td>\n",
       "      <td>0.0</td>\n",
       "      <td>0</td>\n",
       "    </tr>\n",
       "  </tbody>\n",
       "</table>\n",
       "</div>"
      ],
      "text/plain": [
       "   id        date  store_nbr      family  sales  onpromotion\n",
       "0   0  2013-01-01          1  AUTOMOTIVE    0.0            0\n",
       "1   1  2013-01-01          1   BABY CARE    0.0            0"
      ]
     },
     "execution_count": 26,
     "metadata": {},
     "output_type": "execute_result"
    }
   ],
   "source": [
    "train.head(2)"
   ]
  },
  {
   "cell_type": "code",
   "execution_count": 27,
   "id": "1bb87426",
   "metadata": {},
   "outputs": [
    {
     "name": "stdout",
     "output_type": "stream",
     "text": [
      "<class 'pandas.core.frame.DataFrame'>\n",
      "RangeIndex: 3000888 entries, 0 to 3000887\n",
      "Data columns (total 6 columns):\n",
      " #   Column       Dtype  \n",
      "---  ------       -----  \n",
      " 0   id           int64  \n",
      " 1   date         object \n",
      " 2   store_nbr    int64  \n",
      " 3   family       object \n",
      " 4   sales        float64\n",
      " 5   onpromotion  int64  \n",
      "dtypes: float64(1), int64(3), object(2)\n",
      "memory usage: 137.4+ MB\n"
     ]
    }
   ],
   "source": [
    "train.info()"
   ]
  },
  {
   "cell_type": "code",
   "execution_count": 28,
   "id": "56a070be",
   "metadata": {},
   "outputs": [],
   "source": [
    "train['new_date']=pd.to_datetime(train['date'])\n",
    "train['month'] = [i.month for i in train['new_date']]\n",
    "train['year'] = [i.year for i in train['new_date']]\n",
    "train['day_of_week'] = [i.dayofweek for i in train['new_date']]\n",
    "train['day_of_year'] = [i.dayofyear for i in train['new_date']]"
   ]
  },
  {
   "cell_type": "code",
   "execution_count": 29,
   "id": "58826aa8",
   "metadata": {},
   "outputs": [],
   "source": [
    "test['new_date']=pd.to_datetime(test['date'])\n",
    "test['month'] = [i.month for i in test['new_date']]\n",
    "test['year'] = [i.year for i in test['new_date']]\n",
    "test['day_of_week'] = [i.dayofweek for i in test['new_date']]\n",
    "test['day_of_year'] = [i.dayofyear for i in test['new_date']]"
   ]
  },
  {
   "cell_type": "code",
   "execution_count": null,
   "id": "a3488412",
   "metadata": {},
   "outputs": [],
   "source": []
  },
  {
   "cell_type": "code",
   "execution_count": 30,
   "id": "50dd0728",
   "metadata": {},
   "outputs": [
    {
     "data": {
      "text/html": [
       "<div>\n",
       "<style scoped>\n",
       "    .dataframe tbody tr th:only-of-type {\n",
       "        vertical-align: middle;\n",
       "    }\n",
       "\n",
       "    .dataframe tbody tr th {\n",
       "        vertical-align: top;\n",
       "    }\n",
       "\n",
       "    .dataframe thead th {\n",
       "        text-align: right;\n",
       "    }\n",
       "</style>\n",
       "<table border=\"1\" class=\"dataframe\">\n",
       "  <thead>\n",
       "    <tr style=\"text-align: right;\">\n",
       "      <th></th>\n",
       "      <th>id</th>\n",
       "      <th>date</th>\n",
       "      <th>store_nbr</th>\n",
       "      <th>family</th>\n",
       "      <th>onpromotion</th>\n",
       "      <th>new_date</th>\n",
       "      <th>month</th>\n",
       "      <th>year</th>\n",
       "      <th>day_of_week</th>\n",
       "      <th>day_of_year</th>\n",
       "    </tr>\n",
       "  </thead>\n",
       "  <tbody>\n",
       "    <tr>\n",
       "      <th>0</th>\n",
       "      <td>3000888</td>\n",
       "      <td>2017-08-16</td>\n",
       "      <td>1</td>\n",
       "      <td>AUTOMOTIVE</td>\n",
       "      <td>0</td>\n",
       "      <td>2017-08-16</td>\n",
       "      <td>8</td>\n",
       "      <td>2017</td>\n",
       "      <td>2</td>\n",
       "      <td>228</td>\n",
       "    </tr>\n",
       "    <tr>\n",
       "      <th>1</th>\n",
       "      <td>3000889</td>\n",
       "      <td>2017-08-16</td>\n",
       "      <td>1</td>\n",
       "      <td>BABY CARE</td>\n",
       "      <td>0</td>\n",
       "      <td>2017-08-16</td>\n",
       "      <td>8</td>\n",
       "      <td>2017</td>\n",
       "      <td>2</td>\n",
       "      <td>228</td>\n",
       "    </tr>\n",
       "  </tbody>\n",
       "</table>\n",
       "</div>"
      ],
      "text/plain": [
       "        id        date  store_nbr      family  onpromotion   new_date  month  \\\n",
       "0  3000888  2017-08-16          1  AUTOMOTIVE            0 2017-08-16      8   \n",
       "1  3000889  2017-08-16          1   BABY CARE            0 2017-08-16      8   \n",
       "\n",
       "   year  day_of_week  day_of_year  \n",
       "0  2017            2          228  \n",
       "1  2017            2          228  "
      ]
     },
     "execution_count": 30,
     "metadata": {},
     "output_type": "execute_result"
    }
   ],
   "source": [
    "test.head(2)"
   ]
  },
  {
   "cell_type": "code",
   "execution_count": 31,
   "id": "45db9f75",
   "metadata": {},
   "outputs": [],
   "source": [
    "test=test.drop(['id','date','store_nbr','family','onpromotion'],axis=1)\n"
   ]
  },
  {
   "cell_type": "code",
   "execution_count": 32,
   "id": "60563e5d",
   "metadata": {},
   "outputs": [
    {
     "data": {
      "text/html": [
       "<div>\n",
       "<style scoped>\n",
       "    .dataframe tbody tr th:only-of-type {\n",
       "        vertical-align: middle;\n",
       "    }\n",
       "\n",
       "    .dataframe tbody tr th {\n",
       "        vertical-align: top;\n",
       "    }\n",
       "\n",
       "    .dataframe thead th {\n",
       "        text-align: right;\n",
       "    }\n",
       "</style>\n",
       "<table border=\"1\" class=\"dataframe\">\n",
       "  <thead>\n",
       "    <tr style=\"text-align: right;\">\n",
       "      <th></th>\n",
       "      <th>new_date</th>\n",
       "      <th>month</th>\n",
       "      <th>year</th>\n",
       "      <th>day_of_week</th>\n",
       "      <th>day_of_year</th>\n",
       "    </tr>\n",
       "  </thead>\n",
       "  <tbody>\n",
       "    <tr>\n",
       "      <th>0</th>\n",
       "      <td>2017-08-16</td>\n",
       "      <td>8</td>\n",
       "      <td>2017</td>\n",
       "      <td>2</td>\n",
       "      <td>228</td>\n",
       "    </tr>\n",
       "    <tr>\n",
       "      <th>1</th>\n",
       "      <td>2017-08-16</td>\n",
       "      <td>8</td>\n",
       "      <td>2017</td>\n",
       "      <td>2</td>\n",
       "      <td>228</td>\n",
       "    </tr>\n",
       "  </tbody>\n",
       "</table>\n",
       "</div>"
      ],
      "text/plain": [
       "    new_date  month  year  day_of_week  day_of_year\n",
       "0 2017-08-16      8  2017            2          228\n",
       "1 2017-08-16      8  2017            2          228"
      ]
     },
     "execution_count": 32,
     "metadata": {},
     "output_type": "execute_result"
    }
   ],
   "source": [
    "test.head(2)"
   ]
  },
  {
   "cell_type": "code",
   "execution_count": 33,
   "id": "6d72bf70",
   "metadata": {},
   "outputs": [
    {
     "data": {
      "text/plain": [
       "2016    650430\n",
       "2013    648648\n",
       "2014    648648\n",
       "2015    648648\n",
       "2017    404514\n",
       "Name: year, dtype: int64"
      ]
     },
     "execution_count": 33,
     "metadata": {},
     "output_type": "execute_result"
    }
   ],
   "source": [
    "train['year'].value_counts()"
   ]
  },
  {
   "cell_type": "code",
   "execution_count": 34,
   "id": "f7fce9eb",
   "metadata": {},
   "outputs": [],
   "source": [
    "train = train[train['year'] < 2016]\n",
    "train1 = train[train['year'] <= 2016]"
   ]
  },
  {
   "cell_type": "code",
   "execution_count": 35,
   "id": "766d39b8",
   "metadata": {},
   "outputs": [
    {
     "data": {
      "text/html": [
       "<div>\n",
       "<style scoped>\n",
       "    .dataframe tbody tr th:only-of-type {\n",
       "        vertical-align: middle;\n",
       "    }\n",
       "\n",
       "    .dataframe tbody tr th {\n",
       "        vertical-align: top;\n",
       "    }\n",
       "\n",
       "    .dataframe thead th {\n",
       "        text-align: right;\n",
       "    }\n",
       "</style>\n",
       "<table border=\"1\" class=\"dataframe\">\n",
       "  <thead>\n",
       "    <tr style=\"text-align: right;\">\n",
       "      <th></th>\n",
       "      <th>id</th>\n",
       "      <th>date</th>\n",
       "      <th>store_nbr</th>\n",
       "      <th>family</th>\n",
       "      <th>sales</th>\n",
       "      <th>onpromotion</th>\n",
       "      <th>new_date</th>\n",
       "      <th>month</th>\n",
       "      <th>year</th>\n",
       "      <th>day_of_week</th>\n",
       "      <th>day_of_year</th>\n",
       "    </tr>\n",
       "  </thead>\n",
       "  <tbody>\n",
       "    <tr>\n",
       "      <th>0</th>\n",
       "      <td>0</td>\n",
       "      <td>2013-01-01</td>\n",
       "      <td>1</td>\n",
       "      <td>AUTOMOTIVE</td>\n",
       "      <td>0.0</td>\n",
       "      <td>0</td>\n",
       "      <td>2013-01-01</td>\n",
       "      <td>1</td>\n",
       "      <td>2013</td>\n",
       "      <td>1</td>\n",
       "      <td>1</td>\n",
       "    </tr>\n",
       "    <tr>\n",
       "      <th>1</th>\n",
       "      <td>1</td>\n",
       "      <td>2013-01-01</td>\n",
       "      <td>1</td>\n",
       "      <td>BABY CARE</td>\n",
       "      <td>0.0</td>\n",
       "      <td>0</td>\n",
       "      <td>2013-01-01</td>\n",
       "      <td>1</td>\n",
       "      <td>2013</td>\n",
       "      <td>1</td>\n",
       "      <td>1</td>\n",
       "    </tr>\n",
       "  </tbody>\n",
       "</table>\n",
       "</div>"
      ],
      "text/plain": [
       "   id        date  store_nbr      family  sales  onpromotion   new_date  \\\n",
       "0   0  2013-01-01          1  AUTOMOTIVE    0.0            0 2013-01-01   \n",
       "1   1  2013-01-01          1   BABY CARE    0.0            0 2013-01-01   \n",
       "\n",
       "   month  year  day_of_week  day_of_year  \n",
       "0      1  2013            1            1  \n",
       "1      1  2013            1            1  "
      ]
     },
     "execution_count": 35,
     "metadata": {},
     "output_type": "execute_result"
    }
   ],
   "source": [
    "train1.head(2)"
   ]
  },
  {
   "cell_type": "code",
   "execution_count": 36,
   "id": "83263431",
   "metadata": {
    "scrolled": false
   },
   "outputs": [
    {
     "data": {
      "text/html": [
       "<div>\n",
       "<style scoped>\n",
       "    .dataframe tbody tr th:only-of-type {\n",
       "        vertical-align: middle;\n",
       "    }\n",
       "\n",
       "    .dataframe tbody tr th {\n",
       "        vertical-align: top;\n",
       "    }\n",
       "\n",
       "    .dataframe thead th {\n",
       "        text-align: right;\n",
       "    }\n",
       "</style>\n",
       "<table border=\"1\" class=\"dataframe\">\n",
       "  <thead>\n",
       "    <tr style=\"text-align: right;\">\n",
       "      <th></th>\n",
       "      <th>id</th>\n",
       "      <th>date</th>\n",
       "      <th>store_nbr</th>\n",
       "      <th>family</th>\n",
       "      <th>sales</th>\n",
       "      <th>onpromotion</th>\n",
       "      <th>new_date</th>\n",
       "      <th>month</th>\n",
       "      <th>year</th>\n",
       "      <th>day_of_week</th>\n",
       "      <th>day_of_year</th>\n",
       "    </tr>\n",
       "  </thead>\n",
       "  <tbody>\n",
       "    <tr>\n",
       "      <th>0</th>\n",
       "      <td>0</td>\n",
       "      <td>2013-01-01</td>\n",
       "      <td>1</td>\n",
       "      <td>AUTOMOTIVE</td>\n",
       "      <td>0.0</td>\n",
       "      <td>0</td>\n",
       "      <td>2013-01-01</td>\n",
       "      <td>1</td>\n",
       "      <td>2013</td>\n",
       "      <td>1</td>\n",
       "      <td>1</td>\n",
       "    </tr>\n",
       "    <tr>\n",
       "      <th>1</th>\n",
       "      <td>1</td>\n",
       "      <td>2013-01-01</td>\n",
       "      <td>1</td>\n",
       "      <td>BABY CARE</td>\n",
       "      <td>0.0</td>\n",
       "      <td>0</td>\n",
       "      <td>2013-01-01</td>\n",
       "      <td>1</td>\n",
       "      <td>2013</td>\n",
       "      <td>1</td>\n",
       "      <td>1</td>\n",
       "    </tr>\n",
       "  </tbody>\n",
       "</table>\n",
       "</div>"
      ],
      "text/plain": [
       "   id        date  store_nbr      family  sales  onpromotion   new_date  \\\n",
       "0   0  2013-01-01          1  AUTOMOTIVE    0.0            0 2013-01-01   \n",
       "1   1  2013-01-01          1   BABY CARE    0.0            0 2013-01-01   \n",
       "\n",
       "   month  year  day_of_week  day_of_year  \n",
       "0      1  2013            1            1  \n",
       "1      1  2013            1            1  "
      ]
     },
     "execution_count": 36,
     "metadata": {},
     "output_type": "execute_result"
    }
   ],
   "source": [
    "train.head(2)"
   ]
  },
  {
   "cell_type": "code",
   "execution_count": 37,
   "id": "0b74c239",
   "metadata": {},
   "outputs": [
    {
     "data": {
      "text/plain": [
       "Index(['id', 'date', 'store_nbr', 'family', 'sales', 'onpromotion', 'new_date',\n",
       "       'month', 'year', 'day_of_week', 'day_of_year'],\n",
       "      dtype='object')"
      ]
     },
     "execution_count": 37,
     "metadata": {},
     "output_type": "execute_result"
    }
   ],
   "source": [
    "train.columns"
   ]
  },
  {
   "cell_type": "code",
   "execution_count": 38,
   "id": "cc126b46",
   "metadata": {},
   "outputs": [
    {
     "name": "stdout",
     "output_type": "stream",
     "text": [
      "Requirement already satisfied: pycaret in e:\\anaconda\\lib\\site-packages (2.3.10)\n",
      "Requirement already satisfied: textblob in e:\\anaconda\\lib\\site-packages (from pycaret) (0.17.1)\n",
      "Requirement already satisfied: mlflow in e:\\anaconda\\lib\\site-packages (from pycaret) (1.26.0)\n",
      "Requirement already satisfied: pyyaml<6.0.0 in e:\\anaconda\\lib\\site-packages (from pycaret) (5.4.1)\n",
      "Requirement already satisfied: IPython in e:\\anaconda\\lib\\site-packages (from pycaret) (7.22.0)\n",
      "Requirement already satisfied: seaborn in e:\\anaconda\\lib\\site-packages (from pycaret) (0.11.1)\n",
      "Requirement already satisfied: pandas in e:\\anaconda\\lib\\site-packages (from pycaret) (1.2.4)\n",
      "Requirement already satisfied: scipy<=1.5.4 in e:\\anaconda\\lib\\site-packages (from pycaret) (1.5.4)\n",
      "Requirement already satisfied: plotly>=4.4.1 in e:\\anaconda\\lib\\site-packages (from pycaret) (5.6.0)\n",
      "Requirement already satisfied: pyLDAvis in e:\\anaconda\\lib\\site-packages (from pycaret) (3.2.2)\n",
      "Requirement already satisfied: numba<0.55 in e:\\anaconda\\lib\\site-packages (from pycaret) (0.53.1)\n",
      "Requirement already satisfied: lightgbm>=2.3.1 in e:\\anaconda\\lib\\site-packages (from pycaret) (3.3.2)\n",
      "Requirement already satisfied: nltk in e:\\anaconda\\lib\\site-packages (from pycaret) (3.6.1)\n",
      "Requirement already satisfied: kmodes>=0.10.1 in e:\\anaconda\\lib\\site-packages (from pycaret) (0.12.1)\n",
      "Requirement already satisfied: wordcloud in e:\\anaconda\\lib\\site-packages (from pycaret) (1.8.1)\n",
      "Requirement already satisfied: ipywidgets in e:\\anaconda\\lib\\site-packages (from pycaret) (7.6.3)\n",
      "Requirement already satisfied: mlxtend>=0.17.0 in e:\\anaconda\\lib\\site-packages (from pycaret) (0.19.0)\n",
      "Requirement already satisfied: umap-learn in e:\\anaconda\\lib\\site-packages (from pycaret) (0.5.3)\n",
      "Requirement already satisfied: scikit-learn==0.23.2 in e:\\anaconda\\lib\\site-packages (from pycaret) (0.23.2)\n",
      "Requirement already satisfied: pyod in e:\\anaconda\\lib\\site-packages (from pycaret) (1.0.1)\n",
      "Requirement already satisfied: scikit-plot in e:\\anaconda\\lib\\site-packages (from pycaret) (0.3.7)\n",
      "Requirement already satisfied: cufflinks>=0.17.0 in e:\\anaconda\\lib\\site-packages (from pycaret) (0.17.3)\n",
      "Requirement already satisfied: joblib in e:\\anaconda\\lib\\site-packages (from pycaret) (1.0.1)\n",
      "Requirement already satisfied: pandas-profiling>=2.8.0 in e:\\anaconda\\lib\\site-packages (from pycaret) (3.1.0)\n",
      "Requirement already satisfied: spacy<2.4.0 in e:\\anaconda\\lib\\site-packages (from pycaret) (2.3.7)\n",
      "Requirement already satisfied: Boruta in e:\\anaconda\\lib\\site-packages (from pycaret) (0.3)\n",
      "Requirement already satisfied: gensim<4.0.0 in e:\\anaconda\\lib\\site-packages (from pycaret) (3.8.3)\n",
      "Requirement already satisfied: yellowbrick>=1.0.1 in e:\\anaconda\\lib\\site-packages (from pycaret) (1.3.post1)\n",
      "Requirement already satisfied: imbalanced-learn==0.7.0 in e:\\anaconda\\lib\\site-packages (from pycaret) (0.7.0)\n",
      "Requirement already satisfied: matplotlib in e:\\anaconda\\lib\\site-packages (from pycaret) (3.3.4)\n",
      "Requirement already satisfied: numpy>=1.13.3 in e:\\anaconda\\lib\\site-packages (from imbalanced-learn==0.7.0->pycaret) (1.19.5)\n",
      "Requirement already satisfied: threadpoolctl>=2.0.0 in e:\\anaconda\\lib\\site-packages (from scikit-learn==0.23.2->pycaret) (2.1.0)\n",
      "Requirement already satisfied: colorlover>=0.2.1 in e:\\anaconda\\lib\\site-packages (from cufflinks>=0.17.0->pycaret) (0.3.0)\n",
      "Requirement already satisfied: setuptools>=34.4.1 in e:\\anaconda\\lib\\site-packages (from cufflinks>=0.17.0->pycaret) (52.0.0.post20210125)\n",
      "Requirement already satisfied: six>=1.9.0 in e:\\anaconda\\lib\\site-packages (from cufflinks>=0.17.0->pycaret) (1.15.0)\n",
      "Requirement already satisfied: smart-open>=1.8.1 in e:\\anaconda\\lib\\site-packages (from gensim<4.0.0->pycaret) (6.0.0)\n",
      "Requirement already satisfied: Cython==0.29.14 in e:\\anaconda\\lib\\site-packages (from gensim<4.0.0->pycaret) (0.29.14)\n",
      "Requirement already satisfied: prompt-toolkit!=3.0.0,!=3.0.1,<3.1.0,>=2.0.0 in e:\\anaconda\\lib\\site-packages (from IPython->pycaret) (3.0.17)\n",
      "Requirement already satisfied: colorama in e:\\anaconda\\lib\\site-packages (from IPython->pycaret) (0.4.4)\n",
      "Requirement already satisfied: pygments in e:\\anaconda\\lib\\site-packages (from IPython->pycaret) (2.8.1)\n",
      "Requirement already satisfied: pickleshare in e:\\anaconda\\lib\\site-packages (from IPython->pycaret) (0.7.5)\n",
      "Requirement already satisfied: backcall in e:\\anaconda\\lib\\site-packages (from IPython->pycaret) (0.2.0)\n",
      "Requirement already satisfied: traitlets>=4.2 in e:\\anaconda\\lib\\site-packages (from IPython->pycaret) (5.0.5)\n",
      "Requirement already satisfied: decorator in e:\\anaconda\\lib\\site-packages (from IPython->pycaret) (5.0.6)\n",
      "Requirement already satisfied: jedi>=0.16 in e:\\anaconda\\lib\\site-packages (from IPython->pycaret) (0.17.2)\n",
      "Requirement already satisfied: nbformat>=4.2.0 in e:\\anaconda\\lib\\site-packages (from ipywidgets->pycaret) (5.1.3)\n",
      "Requirement already satisfied: ipykernel>=4.5.1 in e:\\anaconda\\lib\\site-packages (from ipywidgets->pycaret) (5.3.4)\n",
      "Requirement already satisfied: widgetsnbextension~=3.5.0 in e:\\anaconda\\lib\\site-packages (from ipywidgets->pycaret) (3.5.1)\n",
      "Requirement already satisfied: jupyterlab-widgets>=1.0.0 in e:\\anaconda\\lib\\site-packages (from ipywidgets->pycaret) (1.0.0)\n",
      "Requirement already satisfied: jupyter-client in e:\\anaconda\\lib\\site-packages (from ipykernel>=4.5.1->ipywidgets->pycaret) (6.1.12)\n",
      "Requirement already satisfied: tornado>=4.2 in e:\\anaconda\\lib\\site-packages (from ipykernel>=4.5.1->ipywidgets->pycaret) (6.1)\n",
      "Requirement already satisfied: parso<0.8.0,>=0.7.0 in e:\\anaconda\\lib\\site-packages (from jedi>=0.16->IPython->pycaret) (0.7.0)\n",
      "Requirement already satisfied: wheel in e:\\anaconda\\lib\\site-packages (from lightgbm>=2.3.1->pycaret) (0.36.2)\n",
      "Requirement already satisfied: kiwisolver>=1.0.1 in e:\\anaconda\\lib\\site-packages (from matplotlib->pycaret) (1.3.1)\n",
      "Requirement already satisfied: pillow>=6.2.0 in e:\\anaconda\\lib\\site-packages (from matplotlib->pycaret) (8.2.0)\n",
      "Requirement already satisfied: cycler>=0.10 in e:\\anaconda\\lib\\site-packages (from matplotlib->pycaret) (0.10.0)\n",
      "Requirement already satisfied: python-dateutil>=2.1 in e:\\anaconda\\lib\\site-packages (from matplotlib->pycaret) (2.8.1)\n",
      "Requirement already satisfied: pyparsing!=2.0.4,!=2.1.2,!=2.1.6,>=2.0.3 in e:\\anaconda\\lib\\site-packages (from matplotlib->pycaret) (2.4.7)\n",
      "Requirement already satisfied: ipython-genutils in e:\\anaconda\\lib\\site-packages (from nbformat>=4.2.0->ipywidgets->pycaret) (0.2.0)\n",
      "Requirement already satisfied: jupyter-core in e:\\anaconda\\lib\\site-packages (from nbformat>=4.2.0->ipywidgets->pycaret) (4.7.1)\n",
      "Requirement already satisfied: jsonschema!=2.5.0,>=2.4 in e:\\anaconda\\lib\\site-packages (from nbformat>=4.2.0->ipywidgets->pycaret) (3.2.0)\n",
      "Requirement already satisfied: attrs>=17.4.0 in e:\\anaconda\\lib\\site-packages (from jsonschema!=2.5.0,>=2.4->nbformat>=4.2.0->ipywidgets->pycaret) (20.3.0)\n",
      "Requirement already satisfied: pyrsistent>=0.14.0 in e:\\anaconda\\lib\\site-packages (from jsonschema!=2.5.0,>=2.4->nbformat>=4.2.0->ipywidgets->pycaret) (0.17.3)\n",
      "Requirement already satisfied: llvmlite<0.37,>=0.36.0rc1 in e:\\anaconda\\lib\\site-packages (from numba<0.55->pycaret) (0.36.0)\n",
      "Requirement already satisfied: pytz>=2017.3 in e:\\anaconda\\lib\\site-packages (from pandas->pycaret) (2021.1)\n",
      "Requirement already satisfied: phik>=0.11.1 in e:\\anaconda\\lib\\site-packages (from pandas-profiling>=2.8.0->pycaret) (0.12.0)\n",
      "Requirement already satisfied: tangled-up-in-unicode==0.1.0 in e:\\anaconda\\lib\\site-packages (from pandas-profiling>=2.8.0->pycaret) (0.1.0)\n",
      "Requirement already satisfied: visions[type_image_path]==0.7.4 in e:\\anaconda\\lib\\site-packages (from pandas-profiling>=2.8.0->pycaret) (0.7.4)\n",
      "Requirement already satisfied: htmlmin>=0.1.12 in e:\\anaconda\\lib\\site-packages (from pandas-profiling>=2.8.0->pycaret) (0.1.12)\n",
      "Requirement already satisfied: markupsafe~=2.0.1 in e:\\anaconda\\lib\\site-packages (from pandas-profiling>=2.8.0->pycaret) (2.0.1)\n",
      "Requirement already satisfied: missingno>=0.4.2 in e:\\anaconda\\lib\\site-packages (from pandas-profiling>=2.8.0->pycaret) (0.4.2)\n",
      "Requirement already satisfied: tqdm>=4.48.2 in e:\\anaconda\\lib\\site-packages (from pandas-profiling>=2.8.0->pycaret) (4.59.0)\n",
      "Requirement already satisfied: requests>=2.24.0 in e:\\anaconda\\lib\\site-packages (from pandas-profiling>=2.8.0->pycaret) (2.25.1)\n",
      "Requirement already satisfied: pydantic>=1.8.1 in e:\\anaconda\\lib\\site-packages (from pandas-profiling>=2.8.0->pycaret) (1.9.0)\n",
      "Requirement already satisfied: jinja2>=2.11.1 in e:\\anaconda\\lib\\site-packages (from pandas-profiling>=2.8.0->pycaret) (2.11.3)\n",
      "Requirement already satisfied: multimethod>=1.4 in e:\\anaconda\\lib\\site-packages (from pandas-profiling>=2.8.0->pycaret) (1.7)\n",
      "Requirement already satisfied: networkx>=2.4 in e:\\anaconda\\lib\\site-packages (from visions[type_image_path]==0.7.4->pandas-profiling>=2.8.0->pycaret) (2.5)\n",
      "Requirement already satisfied: imagehash in e:\\anaconda\\lib\\site-packages (from visions[type_image_path]==0.7.4->pandas-profiling>=2.8.0->pycaret) (4.2.1)\n",
      "Requirement already satisfied: tenacity>=6.2.0 in e:\\anaconda\\lib\\site-packages (from plotly>=4.4.1->pycaret) (8.0.1)\n",
      "Requirement already satisfied: wcwidth in e:\\anaconda\\lib\\site-packages (from prompt-toolkit!=3.0.0,!=3.0.1,<3.1.0,>=2.0.0->IPython->pycaret) (0.2.5)\n",
      "Requirement already satisfied: typing-extensions>=3.7.4.3 in e:\\anaconda\\lib\\site-packages (from pydantic>=1.8.1->pandas-profiling>=2.8.0->pycaret) (3.7.4.3)\n",
      "Requirement already satisfied: chardet<5,>=3.0.2 in e:\\anaconda\\lib\\site-packages (from requests>=2.24.0->pandas-profiling>=2.8.0->pycaret) (4.0.0)\n",
      "Requirement already satisfied: idna<3,>=2.5 in e:\\anaconda\\lib\\site-packages (from requests>=2.24.0->pandas-profiling>=2.8.0->pycaret) (2.10)\n",
      "Requirement already satisfied: urllib3<1.27,>=1.21.1 in e:\\anaconda\\lib\\site-packages (from requests>=2.24.0->pandas-profiling>=2.8.0->pycaret) (1.26.4)\n",
      "Requirement already satisfied: certifi>=2017.4.17 in e:\\anaconda\\lib\\site-packages (from requests>=2.24.0->pandas-profiling>=2.8.0->pycaret) (2020.12.5)\n",
      "Requirement already satisfied: plac<1.2.0,>=0.9.6 in e:\\anaconda\\lib\\site-packages (from spacy<2.4.0->pycaret) (1.1.3)\n",
      "Requirement already satisfied: preshed<3.1.0,>=3.0.2 in e:\\anaconda\\lib\\site-packages (from spacy<2.4.0->pycaret) (3.0.6)\n",
      "Requirement already satisfied: catalogue<1.1.0,>=0.0.7 in e:\\anaconda\\lib\\site-packages (from spacy<2.4.0->pycaret) (1.0.0)\n",
      "Requirement already satisfied: srsly<1.1.0,>=1.0.2 in e:\\anaconda\\lib\\site-packages (from spacy<2.4.0->pycaret) (1.0.5)\n",
      "Requirement already satisfied: thinc<7.5.0,>=7.4.1 in e:\\anaconda\\lib\\site-packages (from spacy<2.4.0->pycaret) (7.4.5)\n",
      "Requirement already satisfied: murmurhash<1.1.0,>=0.28.0 in e:\\anaconda\\lib\\site-packages (from spacy<2.4.0->pycaret) (1.0.7)\n",
      "Requirement already satisfied: cymem<2.1.0,>=2.0.2 in e:\\anaconda\\lib\\site-packages (from spacy<2.4.0->pycaret) (2.0.6)\n",
      "Requirement already satisfied: wasabi<1.1.0,>=0.4.0 in e:\\anaconda\\lib\\site-packages (from spacy<2.4.0->pycaret) (0.9.1)\n",
      "Requirement already satisfied: blis<0.8.0,>=0.4.0 in e:\\anaconda\\lib\\site-packages (from spacy<2.4.0->pycaret) (0.7.7)\n",
      "Requirement already satisfied: notebook>=4.4.1 in e:\\anaconda\\lib\\site-packages (from widgetsnbextension~=3.5.0->ipywidgets->pycaret) (6.3.0)\n"
     ]
    },
    {
     "name": "stdout",
     "output_type": "stream",
     "text": [
      "Requirement already satisfied: prometheus-client in e:\\anaconda\\lib\\site-packages (from notebook>=4.4.1->widgetsnbextension~=3.5.0->ipywidgets->pycaret) (0.10.1)\n",
      "Requirement already satisfied: pyzmq>=17 in e:\\anaconda\\lib\\site-packages (from notebook>=4.4.1->widgetsnbextension~=3.5.0->ipywidgets->pycaret) (20.0.0)\n",
      "Requirement already satisfied: terminado>=0.8.3 in e:\\anaconda\\lib\\site-packages (from notebook>=4.4.1->widgetsnbextension~=3.5.0->ipywidgets->pycaret) (0.9.4)\n",
      "Requirement already satisfied: argon2-cffi in e:\\anaconda\\lib\\site-packages (from notebook>=4.4.1->widgetsnbextension~=3.5.0->ipywidgets->pycaret) (20.1.0)\n",
      "Requirement already satisfied: nbconvert in e:\\anaconda\\lib\\site-packages (from notebook>=4.4.1->widgetsnbextension~=3.5.0->ipywidgets->pycaret) (6.0.7)\n",
      "Requirement already satisfied: Send2Trash>=1.5.0 in e:\\anaconda\\lib\\site-packages (from notebook>=4.4.1->widgetsnbextension~=3.5.0->ipywidgets->pycaret) (1.5.0)\n",
      "Requirement already satisfied: pywin32>=1.0 in e:\\anaconda\\lib\\site-packages (from jupyter-core->nbformat>=4.2.0->ipywidgets->pycaret) (227)\n",
      "Requirement already satisfied: pywinpty>=0.5 in e:\\anaconda\\lib\\site-packages (from terminado>=0.8.3->notebook>=4.4.1->widgetsnbextension~=3.5.0->ipywidgets->pycaret) (0.5.7)\n",
      "Requirement already satisfied: cffi>=1.0.0 in e:\\anaconda\\lib\\site-packages (from argon2-cffi->notebook>=4.4.1->widgetsnbextension~=3.5.0->ipywidgets->pycaret) (1.14.5)\n",
      "Requirement already satisfied: pycparser in e:\\anaconda\\lib\\site-packages (from cffi>=1.0.0->argon2-cffi->notebook>=4.4.1->widgetsnbextension~=3.5.0->ipywidgets->pycaret) (2.20)\n",
      "Requirement already satisfied: PyWavelets in e:\\anaconda\\lib\\site-packages (from imagehash->visions[type_image_path]==0.7.4->pandas-profiling>=2.8.0->pycaret) (1.1.1)\n",
      "Requirement already satisfied: Flask in e:\\anaconda\\lib\\site-packages (from mlflow->pycaret) (1.1.2)\n",
      "Requirement already satisfied: protobuf>=3.7.0 in e:\\anaconda\\lib\\site-packages (from mlflow->pycaret) (3.19.1)\n",
      "Requirement already satisfied: importlib-metadata!=4.7.0,>=3.7.0 in e:\\anaconda\\lib\\site-packages (from mlflow->pycaret) (4.11.3)\n",
      "Requirement already satisfied: sqlparse>=0.3.1 in e:\\anaconda\\lib\\site-packages (from mlflow->pycaret) (0.4.2)\n",
      "Requirement already satisfied: waitress in e:\\anaconda\\lib\\site-packages (from mlflow->pycaret) (2.1.1)\n",
      "Requirement already satisfied: databricks-cli>=0.8.7 in e:\\anaconda\\lib\\site-packages (from mlflow->pycaret) (0.16.6)\n",
      "Requirement already satisfied: sqlalchemy in e:\\anaconda\\lib\\site-packages (from mlflow->pycaret) (1.4.7)\n",
      "Requirement already satisfied: querystring-parser in e:\\anaconda\\lib\\site-packages (from mlflow->pycaret) (1.2.4)\n",
      "Requirement already satisfied: packaging in e:\\anaconda\\lib\\site-packages (from mlflow->pycaret) (20.9)\n",
      "Requirement already satisfied: entrypoints in e:\\anaconda\\lib\\site-packages (from mlflow->pycaret) (0.3)\n",
      "Requirement already satisfied: click>=7.0 in e:\\anaconda\\lib\\site-packages (from mlflow->pycaret) (7.1.2)\n",
      "Requirement already satisfied: alembic in e:\\anaconda\\lib\\site-packages (from mlflow->pycaret) (1.7.7)\n",
      "Requirement already satisfied: prometheus-flask-exporter in e:\\anaconda\\lib\\site-packages (from mlflow->pycaret) (0.20.1)\n",
      "Requirement already satisfied: gitpython>=2.1.0 in e:\\anaconda\\lib\\site-packages (from mlflow->pycaret) (3.1.24)\n",
      "Requirement already satisfied: cloudpickle in e:\\anaconda\\lib\\site-packages (from mlflow->pycaret) (1.6.0)\n",
      "Requirement already satisfied: docker>=4.0.0 in e:\\anaconda\\lib\\site-packages (from mlflow->pycaret) (5.0.3)\n",
      "Requirement already satisfied: oauthlib>=3.1.0 in e:\\anaconda\\lib\\site-packages (from databricks-cli>=0.8.7->mlflow->pycaret) (3.2.0)\n",
      "Requirement already satisfied: tabulate>=0.7.7 in e:\\anaconda\\lib\\site-packages (from databricks-cli>=0.8.7->mlflow->pycaret) (0.8.9)\n",
      "Requirement already satisfied: pyjwt>=1.7.0 in e:\\anaconda\\lib\\site-packages (from databricks-cli>=0.8.7->mlflow->pycaret) (2.4.0)\n",
      "Requirement already satisfied: websocket-client>=0.32.0 in e:\\anaconda\\lib\\site-packages (from docker>=4.0.0->mlflow->pycaret) (1.3.2)\n",
      "Requirement already satisfied: gitdb<5,>=4.0.1 in e:\\anaconda\\lib\\site-packages (from gitpython>=2.1.0->mlflow->pycaret) (4.0.9)\n",
      "Requirement already satisfied: smmap<6,>=3.0.1 in e:\\anaconda\\lib\\site-packages (from gitdb<5,>=4.0.1->gitpython>=2.1.0->mlflow->pycaret) (5.0.0)\n",
      "Requirement already satisfied: zipp>=0.5 in e:\\anaconda\\lib\\site-packages (from importlib-metadata!=4.7.0,>=3.7.0->mlflow->pycaret) (3.4.1)\n",
      "Requirement already satisfied: Mako in e:\\anaconda\\lib\\site-packages (from alembic->mlflow->pycaret) (1.2.0)\n",
      "Requirement already satisfied: importlib-resources in e:\\anaconda\\lib\\site-packages (from alembic->mlflow->pycaret) (5.6.0)\n",
      "Requirement already satisfied: greenlet!=0.4.17 in e:\\anaconda\\lib\\site-packages (from sqlalchemy->mlflow->pycaret) (1.0.0)\n",
      "Requirement already satisfied: Werkzeug>=0.15 in e:\\anaconda\\lib\\site-packages (from Flask->mlflow->pycaret) (1.0.1)\n",
      "Requirement already satisfied: itsdangerous>=0.24 in e:\\anaconda\\lib\\site-packages (from Flask->mlflow->pycaret) (1.1.0)\n",
      "Requirement already satisfied: nbclient<0.6.0,>=0.5.0 in e:\\anaconda\\lib\\site-packages (from nbconvert->notebook>=4.4.1->widgetsnbextension~=3.5.0->ipywidgets->pycaret) (0.5.3)\n",
      "Requirement already satisfied: testpath in e:\\anaconda\\lib\\site-packages (from nbconvert->notebook>=4.4.1->widgetsnbextension~=3.5.0->ipywidgets->pycaret) (0.4.4)\n",
      "Requirement already satisfied: bleach in e:\\anaconda\\lib\\site-packages (from nbconvert->notebook>=4.4.1->widgetsnbextension~=3.5.0->ipywidgets->pycaret) (3.3.0)\n",
      "Requirement already satisfied: mistune<2,>=0.8.1 in e:\\anaconda\\lib\\site-packages (from nbconvert->notebook>=4.4.1->widgetsnbextension~=3.5.0->ipywidgets->pycaret) (0.8.4)\n",
      "Requirement already satisfied: pandocfilters>=1.4.1 in e:\\anaconda\\lib\\site-packages (from nbconvert->notebook>=4.4.1->widgetsnbextension~=3.5.0->ipywidgets->pycaret) (1.4.3)\n",
      "Requirement already satisfied: jupyterlab-pygments in e:\\anaconda\\lib\\site-packages (from nbconvert->notebook>=4.4.1->widgetsnbextension~=3.5.0->ipywidgets->pycaret) (0.1.2)\n",
      "Requirement already satisfied: defusedxml in e:\\anaconda\\lib\\site-packages (from nbconvert->notebook>=4.4.1->widgetsnbextension~=3.5.0->ipywidgets->pycaret) (0.7.1)\n",
      "Requirement already satisfied: async-generator in e:\\anaconda\\lib\\site-packages (from nbclient<0.6.0,>=0.5.0->nbconvert->notebook>=4.4.1->widgetsnbextension~=3.5.0->ipywidgets->pycaret) (1.10)\n",
      "Requirement already satisfied: nest-asyncio in e:\\anaconda\\lib\\site-packages (from nbclient<0.6.0,>=0.5.0->nbconvert->notebook>=4.4.1->widgetsnbextension~=3.5.0->ipywidgets->pycaret) (1.5.1)\n",
      "Requirement already satisfied: webencodings in e:\\anaconda\\lib\\site-packages (from bleach->nbconvert->notebook>=4.4.1->widgetsnbextension~=3.5.0->ipywidgets->pycaret) (0.5.1)\n",
      "Requirement already satisfied: regex in e:\\anaconda\\lib\\site-packages (from nltk->pycaret) (2021.4.4)\n",
      "Requirement already satisfied: future in e:\\anaconda\\lib\\site-packages (from pyLDAvis->pycaret) (0.18.2)\n",
      "Requirement already satisfied: numexpr in e:\\anaconda\\lib\\site-packages (from pyLDAvis->pycaret) (2.7.3)\n",
      "Requirement already satisfied: funcy in e:\\anaconda\\lib\\site-packages (from pyLDAvis->pycaret) (1.17)\n",
      "Requirement already satisfied: statsmodels in e:\\anaconda\\lib\\site-packages (from pyod->pycaret) (0.12.2)\n",
      "Requirement already satisfied: patsy>=0.5 in e:\\anaconda\\lib\\site-packages (from statsmodels->pyod->pycaret) (0.5.1)\n",
      "Requirement already satisfied: pynndescent>=0.5 in e:\\anaconda\\lib\\site-packages (from umap-learn->pycaret) (0.5.7)\n"
     ]
    }
   ],
   "source": [
    "!pip3 install pycaret"
   ]
  },
  {
   "cell_type": "code",
   "execution_count": 44,
   "id": "1fc5ae3a",
   "metadata": {},
   "outputs": [
    {
     "ename": "SyntaxError",
     "evalue": "invalid syntax (<ipython-input-44-c899c86d5396>, line 2)",
     "output_type": "error",
     "traceback": [
      "\u001b[1;36m  File \u001b[1;32m\"<ipython-input-44-c899c86d5396>\"\u001b[1;36m, line \u001b[1;32m2\u001b[0m\n\u001b[1;33m    Setup = regression.setup(data = train,train_size=0.7, target = 'sales', numeric_features ='year','month','day_of_week','day_of_year',categorical_features=, transform_target = True)\u001b[0m\n\u001b[1;37m                                                                                                                                                              ^\u001b[0m\n\u001b[1;31mSyntaxError\u001b[0m\u001b[1;31m:\u001b[0m invalid syntax\n"
     ]
    }
   ],
   "source": [
    "from pycaret import regression\n",
    "Setup = regression.setup(data = train,train_size=0.7, target = 'sales', numeric_features =['year','month','day_of_week','day_of_year'],categorical_features=, transform_target = True)"
   ]
  },
  {
   "cell_type": "code",
   "execution_count": 42,
   "id": "6a8d9360",
   "metadata": {},
   "outputs": [
    {
     "data": {
      "text/html": [
       "<style  type=\"text/css\" >\n",
       "</style><table id=\"T_3084d_\" ><thead></thead><tbody>\n",
       "        </tbody></table>"
      ],
      "text/plain": [
       "<pandas.io.formats.style.Styler at 0x2aea347e220>"
      ]
     },
     "metadata": {},
     "output_type": "display_data"
    },
    {
     "data": {
      "text/plain": [
       "[]"
      ]
     },
     "execution_count": 42,
     "metadata": {},
     "output_type": "execute_result"
    }
   ],
   "source": [
    "regression.compare_models()"
   ]
  },
  {
   "cell_type": "code",
   "execution_count": 43,
   "id": "235637ac",
   "metadata": {},
   "outputs": [
    {
     "ename": "ValueError",
     "evalue": "Estimator [] does not have the required fit() method.",
     "output_type": "error",
     "traceback": [
      "\u001b[1;31m---------------------------------------------------------------------------\u001b[0m",
      "\u001b[1;31mValueError\u001b[0m                                Traceback (most recent call last)",
      "\u001b[1;32m<ipython-input-43-45ab8096d1b5>\u001b[0m in \u001b[0;36m<module>\u001b[1;34m\u001b[0m\n\u001b[1;32m----> 1\u001b[1;33m \u001b[0mct\u001b[0m \u001b[1;33m=\u001b[0m\u001b[0mregression\u001b[0m\u001b[1;33m.\u001b[0m\u001b[0mcreate_model\u001b[0m\u001b[1;33m(\u001b[0m\u001b[0mbest\u001b[0m\u001b[1;33m)\u001b[0m\u001b[1;33m\u001b[0m\u001b[1;33m\u001b[0m\u001b[0m\n\u001b[0m",
      "\u001b[1;32mE:\\anaconda\\lib\\site-packages\\pycaret\\regression.py\u001b[0m in \u001b[0;36mcreate_model\u001b[1;34m(estimator, fold, round, cross_validation, fit_kwargs, groups, verbose, return_train_score, **kwargs)\u001b[0m\n\u001b[0;32m    944\u001b[0m     \"\"\"\n\u001b[0;32m    945\u001b[0m \u001b[1;33m\u001b[0m\u001b[0m\n\u001b[1;32m--> 946\u001b[1;33m     return pycaret.internal.tabular.create_model_supervised(\n\u001b[0m\u001b[0;32m    947\u001b[0m         \u001b[0mestimator\u001b[0m\u001b[1;33m=\u001b[0m\u001b[0mestimator\u001b[0m\u001b[1;33m,\u001b[0m\u001b[1;33m\u001b[0m\u001b[1;33m\u001b[0m\u001b[0m\n\u001b[0;32m    948\u001b[0m         \u001b[0mfold\u001b[0m\u001b[1;33m=\u001b[0m\u001b[0mfold\u001b[0m\u001b[1;33m,\u001b[0m\u001b[1;33m\u001b[0m\u001b[1;33m\u001b[0m\u001b[0m\n",
      "\u001b[1;32mE:\\anaconda\\lib\\site-packages\\pycaret\\internal\\tabular.py\u001b[0m in \u001b[0;36mcreate_model_supervised\u001b[1;34m(estimator, fold, round, cross_validation, predict, fit_kwargs, groups, refit, verbose, system, X_train_data, y_train_data, metrics, experiment_custom_tags, add_to_model_list, probability_threshold, display, return_train_score, **kwargs)\u001b[0m\n\u001b[0;32m   2962\u001b[0m             )\n\u001b[0;32m   2963\u001b[0m     \u001b[1;32melif\u001b[0m \u001b[1;32mnot\u001b[0m \u001b[0mhasattr\u001b[0m\u001b[1;33m(\u001b[0m\u001b[0mestimator\u001b[0m\u001b[1;33m,\u001b[0m \u001b[1;34m\"fit\"\u001b[0m\u001b[1;33m)\u001b[0m\u001b[1;33m:\u001b[0m\u001b[1;33m\u001b[0m\u001b[1;33m\u001b[0m\u001b[0m\n\u001b[1;32m-> 2964\u001b[1;33m         raise ValueError(\n\u001b[0m\u001b[0;32m   2965\u001b[0m             \u001b[1;34mf\"Estimator {estimator} does not have the required fit() method.\"\u001b[0m\u001b[1;33m\u001b[0m\u001b[1;33m\u001b[0m\u001b[0m\n\u001b[0;32m   2966\u001b[0m         )\n",
      "\u001b[1;31mValueError\u001b[0m: Estimator [] does not have the required fit() method."
     ]
    }
   ],
   "source": [
    "ct =regression.create_model(best)"
   ]
  },
  {
   "cell_type": "code",
   "execution_count": null,
   "id": "7e762716",
   "metadata": {},
   "outputs": [],
   "source": [
    "final_best = finalize_model(best)\n",
    "predictions_future = predict_model(final_best, data=test)"
   ]
  },
  {
   "cell_type": "code",
   "execution_count": null,
   "id": "a1ba273c",
   "metadata": {},
   "outputs": [],
   "source": []
  }
 ],
 "metadata": {
  "kernelspec": {
   "display_name": "Python 3",
   "language": "python",
   "name": "python3"
  },
  "language_info": {
   "codemirror_mode": {
    "name": "ipython",
    "version": 3
   },
   "file_extension": ".py",
   "mimetype": "text/x-python",
   "name": "python",
   "nbconvert_exporter": "python",
   "pygments_lexer": "ipython3",
   "version": "3.8.8"
  }
 },
 "nbformat": 4,
 "nbformat_minor": 5
}
